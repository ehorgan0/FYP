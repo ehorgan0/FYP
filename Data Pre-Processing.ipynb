{
 "cells": [
  {
   "cell_type": "markdown",
   "id": "c01f5528",
   "metadata": {},
   "source": [
    "# <u>Boilerplate</u>"
   ]
  },
  {
   "cell_type": "code",
   "execution_count": 1,
   "id": "066ec434",
   "metadata": {},
   "outputs": [],
   "source": [
    "import warnings\n",
    "warnings.filterwarnings('ignore')"
   ]
  },
  {
   "cell_type": "code",
   "execution_count": 2,
   "id": "20bfa21a",
   "metadata": {},
   "outputs": [],
   "source": [
    "from datetime import date, datetime, timedelta\n",
    "import matplotlib.pyplot as plt\n",
    "import numpy as np\n",
    "import os\n",
    "import pandas as pd\n",
    "from sklearn.ensemble import GradientBoostingRegressor, RandomForestRegressor\n",
    "from sklearn.linear_model import LinearRegression\n",
    "from sklearn.metrics import mean_absolute_error, mean_squared_error\n",
    "from sklearn.model_selection import train_test_split, TimeSeriesSplit, GridSearchCV\n",
    "from sklearn.neighbors import KNeighborsRegressor\n",
    "from sklearn.neural_network import MLPRegressor\n",
    "from sklearn.preprocessing import MinMaxScaler\n",
    "from sklearn.tree import DecisionTreeRegressor\n",
    "import time"
   ]
  },
  {
   "cell_type": "markdown",
   "id": "71592f88",
   "metadata": {},
   "source": [
    "#  <u>Dataset description</u>"
   ]
  },
  {
   "cell_type": "markdown",
   "id": "93e2acf6",
   "metadata": {},
   "source": [
    "## Pre-processing the data"
   ]
  },
  {
   "cell_type": "markdown",
   "id": "b3b4dd92",
   "metadata": {},
   "source": [
    "### VM table"
   ]
  },
  {
   "cell_type": "code",
   "execution_count": 3,
   "id": "cc181878",
   "metadata": {},
   "outputs": [
    {
     "data": {
      "text/plain": [
       "(2013767, 11)"
      ]
     },
     "execution_count": 3,
     "metadata": {},
     "output_type": "execute_result"
    }
   ],
   "source": [
    "vmtable = pd.read_csv('D:/FYP/AzureDatasetPacking2019/VM Table/vmtable.csv.gz', compression='gzip', \n",
    "                      names=['vm id', 'subscription id', 'deployment id', 'timestamp vm created', 'timestamp vm deleted', \n",
    "                             'max cpu', 'avg cpu', 'p95 max cpu', 'vm category', 'vm virtual core count', \n",
    "                             'vm memory (gb)'], sep=',', quotechar='\"')\n",
    "vmtable.shape"
   ]
  },
  {
   "cell_type": "markdown",
   "id": "36bcb10e",
   "metadata": {},
   "source": [
    "#### <i>Calculate the lifetime of each VM (in minutes)</i>"
   ]
  },
  {
   "cell_type": "code",
   "execution_count": 4,
   "id": "bbc2df3d",
   "metadata": {},
   "outputs": [],
   "source": [
    "vmtable['lifetime'] = (vmtable['timestamp vm deleted'] - vmtable['timestamp vm created'])/60"
   ]
  },
  {
   "cell_type": "code",
   "execution_count": 5,
   "id": "6666cd42",
   "metadata": {},
   "outputs": [
    {
     "data": {
      "image/png": "[encoded data removed]",
      "text/plain": [
       "<Figure size 1296x432 with 1 Axes>"
      ]
     },
     "metadata": {
      "needs_background": "light"
     },
     "output_type": "display_data"
    }
   ],
   "source": [
    "plt.figure(figsize=(18,6))\n",
    "plt.hist(vmtable['lifetime'], bins=200)\n",
    "plt.ticklabel_format(useOffset=False, style='plain')\n",
    "plt.title('Distribution of VM Lifetimes (in minutes)')\n",
    "plt.show()"
   ]
  },
  {
   "cell_type": "markdown",
   "id": "5e8f5604",
   "metadata": {},
   "source": [
    "#### <i>Convert the timestap to a datetime instance</i>"
   ]
  },
  {
   "cell_type": "code",
   "execution_count": 6,
   "id": "5d2d5f35",
   "metadata": {},
   "outputs": [],
   "source": [
    "datetime_create = []\n",
    "datetime_delete = []\n",
    "# python assums timestamp 0 = 1970-01-01, for this data set 0 =July 15th 2019 and dataset ends July 28th 2019.\n",
    "no_days_difference = datetime(2019, 7, 15, 0, 0) - datetime(1970, 1, 1, 0, 0) # = 18092\n",
    "for ind, row in vmtable.iterrows():\n",
    "    datetime_create.append(datetime.fromtimestamp(row['timestamp vm created']) + timedelta(days=18092))\n",
    "    datetime_delete.append(datetime.fromtimestamp(row['timestamp vm deleted']) + timedelta(days=18092))\n",
    "vmtable['datetime_creation'] = datetime_create\n",
    "vmtable['datetime_deletion'] = datetime_delete"
   ]
  },
  {
   "cell_type": "markdown",
   "id": "8a01cfee",
   "metadata": {},
   "source": [
    "#### <i>Create a list of every five-minute interval</i>\n",
    "Use each five-minute interval as a key in a dictionary (to be populated with the aggregated average, maximum, 95^th percentile maximum, core count and memory used within that time)."
   ]
  },
  {
   "cell_type": "code",
   "execution_count": 7,
   "id": "501107ba",
   "metadata": {},
   "outputs": [],
   "source": [
    "lifetime_range = pd.period_range(min(vmtable[\"datetime_creation\"]), max(vmtable[\"datetime_deletion\"]), freq=\"5min\")\n",
    "lifetime_range = list(lifetime_range.to_timestamp().to_pydatetime())"
   ]
  },
  {
   "cell_type": "code",
   "execution_count": 8,
   "id": "94777419",
   "metadata": {},
   "outputs": [],
   "source": [
    "new_agg_vmtable = {}\n",
    "for i in lifetime_range:\n",
    "    # unique time interval = {avg cpu: 0, max cpu: 0, p95 max cpu: 0, core count: 0, memory: 0}\n",
    "    new_agg_vmtable[i] = [0, 0, 0, 0, 0]"
   ]
  },
  {
   "cell_type": "markdown",
   "id": "37ad1c56",
   "metadata": {},
   "source": [
    "#### <i>Aggregate the data into five-minute intervals</i>\n",
    "Due to the size of this table, this block takes several days to run.\n",
    "\n",
    "The Process:\n",
    "\n",
    "Get the creation and deletion datetime for each VM. If the datetime is not a multiple of five minutes, round it to the time interval that the VM is started within and apply a fractional weight which is equivalent to the percentage of the five minute interval that the VM is active for. For datetimes that are a multiple of five, a weight of one is applied.\n",
    "\n",
    "For each five minute interval between the creation and deletion of each VM, the average, maximum, 95th percentile maximum, core count and memory usage are added to the dictionary new_agg_vmtable."
   ]
  },
  {
   "cell_type": "code",
   "execution_count": null,
   "id": "3ed7abbd",
   "metadata": {},
   "outputs": [],
   "source": [
    "start = time.time()\n",
    "lt_rng = None\n",
    "p = [1, 2, 4, 5, 12, 10, 15, 20, 25, 30, 45,50] # only needed to track progress\n",
    "n = len(vmtable[\"datetime_creation\"])\n",
    "for i in range(n):\n",
    "    # select the VM's start and endtime\n",
    "    st = vmtable.iloc[i, :][\"datetime_creation\"]\n",
    "    et = vmtable.iloc[i, :][\"datetime_deletion\"]\n",
    "    # if start/end time not a multiple of 5 mins, set start/end time to previous five minute interval\n",
    "    # calculate weight\n",
    "    if st.minute % 5 != 0:\n",
    "        start_time = st.floor(\"5min\")\n",
    "        start_weight = ((st.second - start_time.second) + (60 * (st.minute - start_time.minute))) / (60 * 5)\n",
    "    # if start/end time is a five min interval, weight = 1\n",
    "    else:\n",
    "        start_time = st\n",
    "        start_weight = 1 \n",
    "    if et.minute % 5 != 0:\n",
    "        end_time = et.floor(\"5min\")\n",
    "        end_weight = ((et.second - end_time.second) + (60 * (et.minute - end_time.minute))) / (60 * 5)\n",
    "    else:\n",
    "        end_time = et\n",
    "        end_weight = 1\n",
    "    # create list containing every 5 min period between start and end time of the VM\n",
    "    lt_rnge = lifetime_range[lifetime_range.index(start_time):lifetime_range.index(end_time)] \n",
    "    # removing VM's that ran for more than 1000 five min periods to reduce computation time\n",
    "    # from above histogram & Cortez et al. 2017, 90% of VM's run for less than 24 hours\n",
    "    # the majority of the unused VM's run for the full month & are equivalent to adding a constant to the data\n",
    "    if len(lt_rnge) < 1000: \n",
    "        for j in lt_rnge:\n",
    "            # get current usage info for this period\n",
    "            current_usage = new_agg_vmtable[j]\n",
    "            # add current usage to usage for this VM & save\n",
    "            # if start or end period, multiple VM usage by weight\n",
    "            if lt_rnge.index(j) == 0:\n",
    "                new_agg_vmtable[j] = [((vmtable.iloc[i, :][\"avg cpu\"] * start_weight) + current_usage[0]), \n",
    "                                  ((vmtable.iloc[i, :][\"max cpu\"]) + current_usage[1]),\n",
    "                                  ((vmtable.iloc[i, :][\"p95 max cpu\"]) + current_usage[2]), \n",
    "                                  (vmtable.iloc[i, :][\"vm virtual core count\"] + current_usage[3]),\n",
    "                                  (vmtable.iloc[i, :][\"vm memory (gb)\"] + current_usage[4])]\n",
    "            elif lt_rnge.index(j) == n:\n",
    "                new_agg_vmtable[j] = [((vmtable.iloc[i, :][\"avg cpu\"] * end_weight) + current_usage[0]), \n",
    "                                  ((vmtable.iloc[i, :][\"max cpu\"]) + current_usage[1]),\n",
    "                                  ((vmtable.iloc[i, :][\"p95 max cpu\"]) + current_usage[2]), \n",
    "                                  (vmtable.iloc[i, :][\"vm virtual core count\"] + current_usage[3]),\n",
    "                                  (vmtable.iloc[i, :][\"vm memory (gb)\"] + current_usage[4])]\n",
    "            else:\n",
    "                new_agg_vmtable[j] = [(vmtable.iloc[i, :][\"avg cpu\"] + current_usage[0]), \n",
    "                                  (vmtable.iloc[i, :][\"max cpu\"] + current_usage[1]),\n",
    "                                  (vmtable.iloc[i, :][\"p95 max cpu\"] + current_usage[2]), \n",
    "                                  (vmtable.iloc[i, :][\"vm virtual core count\"] + current_usage[3]),\n",
    "                                  (vmtable.iloc[i, :][\"vm memory (gb)\"] + current_usage[4])]\n",
    "    # reset list containing every five min period\n",
    "    lt_rng = []\n",
    "    # ignore this! it just prints how long it takes to complete every 10% of the data\n",
    "    if round((time.time() - start)/60) in p:\n",
    "        print(\"%: \",(i/n) * 100,\"\\n time taken: \", (time.time() - start) / 60, \"\\n\")\n",
    "        p.remove(round((time.time() - start)/60))\n",
    "end = time.time()\n",
    "# prints total computation time\n",
    "print((end-start)/60)"
   ]
  },
  {
   "cell_type": "code",
   "execution_count": 9,
   "id": "79c5c2b1",
   "metadata": {},
   "outputs": [
    {
     "data": {
      "text/html": [
       "<div>\n",
       "<style scoped>\n",
       "    .dataframe tbody tr th:only-of-type {\n",
       "        vertical-align: middle;\n",
       "    }\n",
       "\n",
       "    .dataframe tbody tr th {\n",
       "        vertical-align: top;\n",
       "    }\n",
       "\n",
       "    .dataframe thead th {\n",
       "        text-align: right;\n",
       "    }\n",
       "</style>\n",
       "<table border=\"1\" class=\"dataframe\">\n",
       "  <thead>\n",
       "    <tr style=\"text-align: right;\">\n",
       "      <th></th>\n",
       "      <th>index</th>\n",
       "      <th>avg_cpu</th>\n",
       "      <th>max_cpu</th>\n",
       "      <th>p95_max_cpu</th>\n",
       "      <th>vm_virtual_core_count</th>\n",
       "      <th>vm_memory_gb</th>\n",
       "    </tr>\n",
       "  </thead>\n",
       "  <tbody>\n",
       "    <tr>\n",
       "      <th>0</th>\n",
       "      <td>2019-07-15 00:00:00</td>\n",
       "      <td>600026.793129</td>\n",
       "      <td>4.041458e+06</td>\n",
       "      <td>2.139499e+06</td>\n",
       "      <td>126757</td>\n",
       "      <td>335558.00</td>\n",
       "    </tr>\n",
       "    <tr>\n",
       "      <th>1</th>\n",
       "      <td>2019-07-15 00:05:00</td>\n",
       "      <td>600971.042478</td>\n",
       "      <td>4.044738e+06</td>\n",
       "      <td>2.141563e+06</td>\n",
       "      <td>126712</td>\n",
       "      <td>335395.25</td>\n",
       "    </tr>\n",
       "    <tr>\n",
       "      <th>2</th>\n",
       "      <td>2019-07-15 00:10:00</td>\n",
       "      <td>600301.813291</td>\n",
       "      <td>4.042657e+06</td>\n",
       "      <td>2.139025e+06</td>\n",
       "      <td>126516</td>\n",
       "      <td>334882.25</td>\n",
       "    </tr>\n",
       "    <tr>\n",
       "      <th>3</th>\n",
       "      <td>2019-07-15 00:15:00</td>\n",
       "      <td>599839.457380</td>\n",
       "      <td>4.042293e+06</td>\n",
       "      <td>2.138133e+06</td>\n",
       "      <td>126402</td>\n",
       "      <td>334636.75</td>\n",
       "    </tr>\n",
       "    <tr>\n",
       "      <th>4</th>\n",
       "      <td>2019-07-15 00:20:00</td>\n",
       "      <td>598782.239829</td>\n",
       "      <td>4.041869e+06</td>\n",
       "      <td>2.136908e+06</td>\n",
       "      <td>126265</td>\n",
       "      <td>334311.00</td>\n",
       "    </tr>\n",
       "  </tbody>\n",
       "</table>\n",
       "</div>"
      ],
      "text/plain": [
       "                 index        avg_cpu       max_cpu   p95_max_cpu  \\\n",
       "0  2019-07-15 00:00:00  600026.793129  4.041458e+06  2.139499e+06   \n",
       "1  2019-07-15 00:05:00  600971.042478  4.044738e+06  2.141563e+06   \n",
       "2  2019-07-15 00:10:00  600301.813291  4.042657e+06  2.139025e+06   \n",
       "3  2019-07-15 00:15:00  599839.457380  4.042293e+06  2.138133e+06   \n",
       "4  2019-07-15 00:20:00  598782.239829  4.041869e+06  2.136908e+06   \n",
       "\n",
       "   vm_virtual_core_count  vm_memory_gb  \n",
       "0                 126757     335558.00  \n",
       "1                 126712     335395.25  \n",
       "2                 126516     334882.25  \n",
       "3                 126402     334636.75  \n",
       "4                 126265     334311.00  "
      ]
     },
     "execution_count": 9,
     "metadata": {},
     "output_type": "execute_result"
    }
   ],
   "source": [
    "aggregation_vmtable = pd.read_csv(\"D:/FYP/AzureDatasetPacking2019/Aggregated Data/aggregated_vmtable.csv\", header=0, \n",
    "                                  names= [\"index\", \"avg_cpu\", \"max_cpu\", \"p95_max_cpu\", \"vm_virtual_core_count\",\n",
    "                                          \"vm_memory_gb\"])\n",
    "aggregation_vmtable.head()"
   ]
  },
  {
   "cell_type": "markdown",
   "id": "89713cbc",
   "metadata": {},
   "source": [
    "#### <i>Correct the datetime instances</i>"
   ]
  },
  {
   "cell_type": "code",
   "execution_count": 10,
   "id": "108a71f4",
   "metadata": {},
   "outputs": [],
   "source": [
    "days_difference = datetime(2019, 7, 15, 0, 0) - datetime(2016, 11, 16, 0, 0) # 971 days\n",
    "aggregation_vmtable = aggregation_vmtable.reset_index()\n",
    "aggregation_vmtable[\"index\"] = pd.to_datetime(aggregation_vmtable[\"index\"]) - timedelta(days=971)\n",
    "aggregation_vmtable = aggregation_vmtable.set_index(\"index\")\n",
    "aggregation_vmtable = aggregation_vmtable[[\"avg_cpu\", \"max_cpu\", \"p95_max_cpu\", \"vm_virtual_core_count\", \"vm_memory_gb\"]]"
   ]
  },
  {
   "cell_type": "code",
   "execution_count": null,
   "id": "e313d942",
   "metadata": {},
   "outputs": [],
   "source": [
    "aggregation_vmtable.to_csv(\"D:/FYP/AzureDatasetPacking2019/Aggregated Data/aggregated_vmtable_correct_dates.csv\")"
   ]
  },
  {
   "cell_type": "code",
   "execution_count": 11,
   "id": "dc67c610",
   "metadata": {},
   "outputs": [
    {
     "data": {
      "text/html": [
       "<div>\n",
       "<style scoped>\n",
       "    .dataframe tbody tr th:only-of-type {\n",
       "        vertical-align: middle;\n",
       "    }\n",
       "\n",
       "    .dataframe tbody tr th {\n",
       "        vertical-align: top;\n",
       "    }\n",
       "\n",
       "    .dataframe thead th {\n",
       "        text-align: right;\n",
       "    }\n",
       "</style>\n",
       "<table border=\"1\" class=\"dataframe\">\n",
       "  <thead>\n",
       "    <tr style=\"text-align: right;\">\n",
       "      <th></th>\n",
       "      <th>avg_cpu</th>\n",
       "      <th>max_cpu</th>\n",
       "      <th>p95_max_cpu</th>\n",
       "      <th>vm_virtual_core_count</th>\n",
       "      <th>vm_memory_gb</th>\n",
       "    </tr>\n",
       "    <tr>\n",
       "      <th>index</th>\n",
       "      <th></th>\n",
       "      <th></th>\n",
       "      <th></th>\n",
       "      <th></th>\n",
       "      <th></th>\n",
       "    </tr>\n",
       "  </thead>\n",
       "  <tbody>\n",
       "    <tr>\n",
       "      <th>2016-12-15 23:35:00</th>\n",
       "      <td>625220.260839</td>\n",
       "      <td>4.478651e+06</td>\n",
       "      <td>2.229860e+06</td>\n",
       "      <td>129979</td>\n",
       "      <td>337958.75</td>\n",
       "    </tr>\n",
       "    <tr>\n",
       "      <th>2016-12-15 23:40:00</th>\n",
       "      <td>622813.265551</td>\n",
       "      <td>4.468815e+06</td>\n",
       "      <td>2.223262e+06</td>\n",
       "      <td>129731</td>\n",
       "      <td>337061.75</td>\n",
       "    </tr>\n",
       "    <tr>\n",
       "      <th>2016-12-15 23:45:00</th>\n",
       "      <td>619207.294106</td>\n",
       "      <td>4.450889e+06</td>\n",
       "      <td>2.209649e+06</td>\n",
       "      <td>129230</td>\n",
       "      <td>336097.00</td>\n",
       "    </tr>\n",
       "    <tr>\n",
       "      <th>2016-12-15 23:50:00</th>\n",
       "      <td>615505.559907</td>\n",
       "      <td>4.433751e+06</td>\n",
       "      <td>2.196580e+06</td>\n",
       "      <td>128805</td>\n",
       "      <td>334848.25</td>\n",
       "    </tr>\n",
       "    <tr>\n",
       "      <th>2016-12-15 23:55:00</th>\n",
       "      <td>0.000000</td>\n",
       "      <td>0.000000e+00</td>\n",
       "      <td>0.000000e+00</td>\n",
       "      <td>0</td>\n",
       "      <td>0.00</td>\n",
       "    </tr>\n",
       "  </tbody>\n",
       "</table>\n",
       "</div>"
      ],
      "text/plain": [
       "                           avg_cpu       max_cpu   p95_max_cpu  \\\n",
       "index                                                            \n",
       "2016-12-15 23:35:00  625220.260839  4.478651e+06  2.229860e+06   \n",
       "2016-12-15 23:40:00  622813.265551  4.468815e+06  2.223262e+06   \n",
       "2016-12-15 23:45:00  619207.294106  4.450889e+06  2.209649e+06   \n",
       "2016-12-15 23:50:00  615505.559907  4.433751e+06  2.196580e+06   \n",
       "2016-12-15 23:55:00       0.000000  0.000000e+00  0.000000e+00   \n",
       "\n",
       "                     vm_virtual_core_count  vm_memory_gb  \n",
       "index                                                     \n",
       "2016-12-15 23:35:00                 129979     337958.75  \n",
       "2016-12-15 23:40:00                 129731     337061.75  \n",
       "2016-12-15 23:45:00                 129230     336097.00  \n",
       "2016-12-15 23:50:00                 128805     334848.25  \n",
       "2016-12-15 23:55:00                      0          0.00  "
      ]
     },
     "execution_count": 11,
     "metadata": {},
     "output_type": "execute_result"
    }
   ],
   "source": [
    "aggregation_vmtable.tail()"
   ]
  },
  {
   "cell_type": "markdown",
   "id": "f9a9cd03",
   "metadata": {},
   "source": [
    "***"
   ]
  },
  {
   "cell_type": "markdown",
   "id": "d45dd0c9",
   "metadata": {},
   "source": [
    "### CPU readings\n",
    "#### <i>Aggregate the individual files</i>\n",
    "Sum the maximum and average CPU readings for each timestamp."
   ]
  },
  {
   "cell_type": "code",
   "execution_count": null,
   "id": "45d15ce8",
   "metadata": {},
   "outputs": [],
   "source": [
    "# for each CPU Reading file\n",
    "for file in os.listdir(\"F:/FYP/AzureDatasetPacking2019/VM CPU Readings\"):\n",
    "    cpu_memory_reading = pd.read_csv(\"F:/FYP/AzureDatasetPacking2019/VM CPU Readings/\" + file, compression='gzip', \n",
    "                                 names=['timestamp', 'vm id', 'min cpu', 'max cpu', 'avg cpu'], sep=',', quotechar='\"')\n",
    "    # aggregate avg. & max. cpu usage by timestamp\n",
    "    cpu_memory_reading = cpu_memory_reading.groupby('timestamp').agg({\"avg cpu\":'sum','max cpu':'sum'})\n",
    "    # save aggregated file\n",
    "    cpu_memory_reading.to_csv(\"C:/Users/ehlocal/OneDrive - University College Cork/UCC/Year 4/FYP/CPU Memory Aggregation 2/\" + str(file[0:-7]) + \".csv\")"
   ]
  },
  {
   "cell_type": "markdown",
   "id": "6c5ad4b2",
   "metadata": {},
   "source": [
    "#### <i>Combine the files</i>"
   ]
  },
  {
   "cell_type": "code",
   "execution_count": 12,
   "id": "c15aea69",
   "metadata": {},
   "outputs": [],
   "source": [
    "aggregated_cpu_readings = pd.DataFrame()\n",
    "for file in os.listdir(\"D:/FYP/AzureDatasetPacking2019/Aggregated Data/CPU Readings Aggregation\"):\n",
    "    individ_file = pd.read_csv(\"D:/FYP/AzureDatasetPacking2019/Aggregated Data/CPU Readings Aggregation/\" + file)\n",
    "    # append aggregated CPU Reading files into one file\n",
    "    aggregated_cpu_readings = aggregated_cpu_readings.append(individ_file)"
   ]
  },
  {
   "cell_type": "code",
   "execution_count": 13,
   "id": "80df003f",
   "metadata": {},
   "outputs": [
    {
     "data": {
      "text/html": [
       "<div>\n",
       "<style scoped>\n",
       "    .dataframe tbody tr th:only-of-type {\n",
       "        vertical-align: middle;\n",
       "    }\n",
       "\n",
       "    .dataframe tbody tr th {\n",
       "        vertical-align: top;\n",
       "    }\n",
       "\n",
       "    .dataframe thead th {\n",
       "        text-align: right;\n",
       "    }\n",
       "</style>\n",
       "<table border=\"1\" class=\"dataframe\">\n",
       "  <thead>\n",
       "    <tr style=\"text-align: right;\">\n",
       "      <th></th>\n",
       "      <th>timestamp</th>\n",
       "      <th>avg cpu</th>\n",
       "      <th>max cpu</th>\n",
       "    </tr>\n",
       "  </thead>\n",
       "  <tbody>\n",
       "    <tr>\n",
       "      <th>0</th>\n",
       "      <td>0</td>\n",
       "      <td>1.229569e+06</td>\n",
       "      <td>2.223302e+06</td>\n",
       "    </tr>\n",
       "    <tr>\n",
       "      <th>1</th>\n",
       "      <td>300</td>\n",
       "      <td>1.211322e+06</td>\n",
       "      <td>2.212393e+06</td>\n",
       "    </tr>\n",
       "    <tr>\n",
       "      <th>2</th>\n",
       "      <td>600</td>\n",
       "      <td>1.206635e+06</td>\n",
       "      <td>2.213057e+06</td>\n",
       "    </tr>\n",
       "    <tr>\n",
       "      <th>3</th>\n",
       "      <td>900</td>\n",
       "      <td>1.190369e+06</td>\n",
       "      <td>2.187572e+06</td>\n",
       "    </tr>\n",
       "    <tr>\n",
       "      <th>4</th>\n",
       "      <td>1200</td>\n",
       "      <td>1.180992e+06</td>\n",
       "      <td>2.183684e+06</td>\n",
       "    </tr>\n",
       "  </tbody>\n",
       "</table>\n",
       "</div>"
      ],
      "text/plain": [
       "   timestamp       avg cpu       max cpu\n",
       "0          0  1.229569e+06  2.223302e+06\n",
       "1        300  1.211322e+06  2.212393e+06\n",
       "2        600  1.206635e+06  2.213057e+06\n",
       "3        900  1.190369e+06  2.187572e+06\n",
       "4       1200  1.180992e+06  2.183684e+06"
      ]
     },
     "execution_count": 13,
     "metadata": {},
     "output_type": "execute_result"
    }
   ],
   "source": [
    "aggregated_cpu_readings.head()"
   ]
  },
  {
   "cell_type": "markdown",
   "id": "5b27a718",
   "metadata": {},
   "source": [
    "#### <i>Remove duplicate datetimes by re-aggregating the combined file</i>\n",
    "Duplicate timestamps appears because the individual files were ordered by time. Therefore, the final datetime in one file was the same as the initial datetime in the succeeding file."
   ]
  },
  {
   "cell_type": "code",
   "execution_count": 14,
   "id": "b5ab01d3",
   "metadata": {},
   "outputs": [
    {
     "data": {
      "text/plain": [
       "(11641, 3)"
      ]
     },
     "execution_count": 14,
     "metadata": {},
     "output_type": "execute_result"
    }
   ],
   "source": [
    "aggregated_cpu_readings.shape"
   ]
  },
  {
   "cell_type": "code",
   "execution_count": 15,
   "id": "54411c3a",
   "metadata": {},
   "outputs": [
    {
     "data": {
      "text/plain": [
       "11517"
      ]
     },
     "execution_count": 15,
     "metadata": {},
     "output_type": "execute_result"
    }
   ],
   "source": [
    "len(np.unique(aggregated_cpu_readings[\"timestamp\"])) # no. of unique timestamps"
   ]
  },
  {
   "cell_type": "code",
   "execution_count": 16,
   "id": "a169d226",
   "metadata": {},
   "outputs": [
    {
     "data": {
      "text/html": [
       "<div>\n",
       "<style scoped>\n",
       "    .dataframe tbody tr th:only-of-type {\n",
       "        vertical-align: middle;\n",
       "    }\n",
       "\n",
       "    .dataframe tbody tr th {\n",
       "        vertical-align: top;\n",
       "    }\n",
       "\n",
       "    .dataframe thead th {\n",
       "        text-align: right;\n",
       "    }\n",
       "</style>\n",
       "<table border=\"1\" class=\"dataframe\">\n",
       "  <thead>\n",
       "    <tr style=\"text-align: right;\">\n",
       "      <th></th>\n",
       "      <th>timestamp</th>\n",
       "      <th>avg cpu</th>\n",
       "      <th>max cpu</th>\n",
       "    </tr>\n",
       "  </thead>\n",
       "  <tbody>\n",
       "    <tr>\n",
       "      <th>70</th>\n",
       "      <td>21000</td>\n",
       "      <td>7.566361e+05</td>\n",
       "      <td>1.451319e+06</td>\n",
       "    </tr>\n",
       "    <tr>\n",
       "      <th>0</th>\n",
       "      <td>188400</td>\n",
       "      <td>5.870905e+05</td>\n",
       "      <td>1.115624e+06</td>\n",
       "    </tr>\n",
       "    <tr>\n",
       "      <th>71</th>\n",
       "      <td>209700</td>\n",
       "      <td>3.570706e+05</td>\n",
       "      <td>6.690535e+05</td>\n",
       "    </tr>\n",
       "    <tr>\n",
       "      <th>0</th>\n",
       "      <td>2061600</td>\n",
       "      <td>1.077751e+06</td>\n",
       "      <td>1.940617e+06</td>\n",
       "    </tr>\n",
       "    <tr>\n",
       "      <th>138</th>\n",
       "      <td>2082300</td>\n",
       "      <td>7.953052e+05</td>\n",
       "      <td>1.454434e+06</td>\n",
       "    </tr>\n",
       "    <tr>\n",
       "      <th>...</th>\n",
       "      <td>...</td>\n",
       "      <td>...</td>\n",
       "      <td>...</td>\n",
       "    </tr>\n",
       "    <tr>\n",
       "      <th>142</th>\n",
       "      <td>2020200</td>\n",
       "      <td>2.723892e+05</td>\n",
       "      <td>4.982031e+05</td>\n",
       "    </tr>\n",
       "    <tr>\n",
       "      <th>0</th>\n",
       "      <td>2020200</td>\n",
       "      <td>8.747763e+05</td>\n",
       "      <td>1.601421e+06</td>\n",
       "    </tr>\n",
       "    <tr>\n",
       "      <th>140</th>\n",
       "      <td>2041200</td>\n",
       "      <td>2.942990e+05</td>\n",
       "      <td>5.201345e+05</td>\n",
       "    </tr>\n",
       "    <tr>\n",
       "      <th>0</th>\n",
       "      <td>2041200</td>\n",
       "      <td>1.030168e+06</td>\n",
       "      <td>1.825420e+06</td>\n",
       "    </tr>\n",
       "    <tr>\n",
       "      <th>136</th>\n",
       "      <td>2061600</td>\n",
       "      <td>2.048815e+05</td>\n",
       "      <td>3.685082e+05</td>\n",
       "    </tr>\n",
       "  </tbody>\n",
       "</table>\n",
       "<p>248 rows × 3 columns</p>\n",
       "</div>"
      ],
      "text/plain": [
       "     timestamp       avg cpu       max cpu\n",
       "70       21000  7.566361e+05  1.451319e+06\n",
       "0       188400  5.870905e+05  1.115624e+06\n",
       "71      209700  3.570706e+05  6.690535e+05\n",
       "0      2061600  1.077751e+06  1.940617e+06\n",
       "138    2082300  7.953052e+05  1.454434e+06\n",
       "..         ...           ...           ...\n",
       "142    2020200  2.723892e+05  4.982031e+05\n",
       "0      2020200  8.747763e+05  1.601421e+06\n",
       "140    2041200  2.942990e+05  5.201345e+05\n",
       "0      2041200  1.030168e+06  1.825420e+06\n",
       "136    2061600  2.048815e+05  3.685082e+05\n",
       "\n",
       "[248 rows x 3 columns]"
      ]
     },
     "execution_count": 16,
     "metadata": {},
     "output_type": "execute_result"
    }
   ],
   "source": [
    "aggregated_cpu_readings[aggregated_cpu_readings[\"timestamp\"].duplicated(keep=False)] # 248 rows of duplicated timestamps"
   ]
  },
  {
   "cell_type": "code",
   "execution_count": 17,
   "id": "a480dcb2",
   "metadata": {},
   "outputs": [
    {
     "data": {
      "text/plain": [
       "124"
      ]
     },
     "execution_count": 17,
     "metadata": {},
     "output_type": "execute_result"
    }
   ],
   "source": [
    "11641 - 11517 # number of duplicates "
   ]
  },
  {
   "cell_type": "code",
   "execution_count": 18,
   "id": "c46cc9c2",
   "metadata": {},
   "outputs": [],
   "source": [
    "aggregated_cpu_readings = aggregated_cpu_readings.groupby('timestamp').agg({\"avg cpu\":'sum','max cpu':'sum'})"
   ]
  },
  {
   "cell_type": "code",
   "execution_count": 34,
   "id": "e7156510",
   "metadata": {},
   "outputs": [],
   "source": [
    "aggregated_cpu_readings.to_csv(\"D:/FYP/AzureDatasetPacking2019/Aggregated Data/aggregated_cpu_readings_TSerror.csv\")"
   ]
  },
  {
   "cell_type": "code",
   "execution_count": 19,
   "id": "ab538846",
   "metadata": {},
   "outputs": [
    {
     "data": {
      "text/html": [
       "<div>\n",
       "<style scoped>\n",
       "    .dataframe tbody tr th:only-of-type {\n",
       "        vertical-align: middle;\n",
       "    }\n",
       "\n",
       "    .dataframe tbody tr th {\n",
       "        vertical-align: top;\n",
       "    }\n",
       "\n",
       "    .dataframe thead th {\n",
       "        text-align: right;\n",
       "    }\n",
       "</style>\n",
       "<table border=\"1\" class=\"dataframe\">\n",
       "  <thead>\n",
       "    <tr style=\"text-align: right;\">\n",
       "      <th></th>\n",
       "      <th>Unnamed: 0</th>\n",
       "      <th>timestamp</th>\n",
       "      <th>avg cpu</th>\n",
       "      <th>max cpu</th>\n",
       "    </tr>\n",
       "  </thead>\n",
       "  <tbody>\n",
       "    <tr>\n",
       "      <th>0</th>\n",
       "      <td>0</td>\n",
       "      <td>0</td>\n",
       "      <td>1.229569e+06</td>\n",
       "      <td>2.223302e+06</td>\n",
       "    </tr>\n",
       "    <tr>\n",
       "      <th>1</th>\n",
       "      <td>1</td>\n",
       "      <td>300</td>\n",
       "      <td>1.211322e+06</td>\n",
       "      <td>2.212393e+06</td>\n",
       "    </tr>\n",
       "    <tr>\n",
       "      <th>2</th>\n",
       "      <td>2</td>\n",
       "      <td>600</td>\n",
       "      <td>1.206635e+06</td>\n",
       "      <td>2.213057e+06</td>\n",
       "    </tr>\n",
       "    <tr>\n",
       "      <th>3</th>\n",
       "      <td>3</td>\n",
       "      <td>900</td>\n",
       "      <td>1.190369e+06</td>\n",
       "      <td>2.187572e+06</td>\n",
       "    </tr>\n",
       "    <tr>\n",
       "      <th>4</th>\n",
       "      <td>4</td>\n",
       "      <td>1200</td>\n",
       "      <td>1.180992e+06</td>\n",
       "      <td>2.183684e+06</td>\n",
       "    </tr>\n",
       "  </tbody>\n",
       "</table>\n",
       "</div>"
      ],
      "text/plain": [
       "   Unnamed: 0  timestamp       avg cpu       max cpu\n",
       "0           0          0  1.229569e+06  2.223302e+06\n",
       "1           1        300  1.211322e+06  2.212393e+06\n",
       "2           2        600  1.206635e+06  2.213057e+06\n",
       "3           3        900  1.190369e+06  2.187572e+06\n",
       "4           4       1200  1.180992e+06  2.183684e+06"
      ]
     },
     "execution_count": 19,
     "metadata": {},
     "output_type": "execute_result"
    }
   ],
   "source": [
    "aggregated_cpu_readings = pd.read_csv(\"D:/FYP/AzureDatasetPacking2019/Aggregated Data/aggregated_cpu_readings_TSerror.csv\")\n",
    "aggregated_cpu_readings.head()"
   ]
  },
  {
   "cell_type": "code",
   "execution_count": 20,
   "id": "e1f1630b",
   "metadata": {},
   "outputs": [
    {
     "data": {
      "text/html": [
       "<div>\n",
       "<style scoped>\n",
       "    .dataframe tbody tr th:only-of-type {\n",
       "        vertical-align: middle;\n",
       "    }\n",
       "\n",
       "    .dataframe tbody tr th {\n",
       "        vertical-align: top;\n",
       "    }\n",
       "\n",
       "    .dataframe thead th {\n",
       "        text-align: right;\n",
       "    }\n",
       "</style>\n",
       "<table border=\"1\" class=\"dataframe\">\n",
       "  <thead>\n",
       "    <tr style=\"text-align: right;\">\n",
       "      <th></th>\n",
       "      <th>avg cpu</th>\n",
       "      <th>max cpu</th>\n",
       "    </tr>\n",
       "    <tr>\n",
       "      <th>timestamp</th>\n",
       "      <th></th>\n",
       "      <th></th>\n",
       "    </tr>\n",
       "  </thead>\n",
       "  <tbody>\n",
       "    <tr>\n",
       "      <th>0</th>\n",
       "      <td>1.229569e+06</td>\n",
       "      <td>2.223302e+06</td>\n",
       "    </tr>\n",
       "    <tr>\n",
       "      <th>300</th>\n",
       "      <td>1.211322e+06</td>\n",
       "      <td>2.212393e+06</td>\n",
       "    </tr>\n",
       "    <tr>\n",
       "      <th>600</th>\n",
       "      <td>1.206635e+06</td>\n",
       "      <td>2.213057e+06</td>\n",
       "    </tr>\n",
       "    <tr>\n",
       "      <th>900</th>\n",
       "      <td>1.190369e+06</td>\n",
       "      <td>2.187572e+06</td>\n",
       "    </tr>\n",
       "    <tr>\n",
       "      <th>1200</th>\n",
       "      <td>1.180992e+06</td>\n",
       "      <td>2.183684e+06</td>\n",
       "    </tr>\n",
       "  </tbody>\n",
       "</table>\n",
       "</div>"
      ],
      "text/plain": [
       "                avg cpu       max cpu\n",
       "timestamp                            \n",
       "0          1.229569e+06  2.223302e+06\n",
       "300        1.211322e+06  2.212393e+06\n",
       "600        1.206635e+06  2.213057e+06\n",
       "900        1.190369e+06  2.187572e+06\n",
       "1200       1.180992e+06  2.183684e+06"
      ]
     },
     "execution_count": 20,
     "metadata": {},
     "output_type": "execute_result"
    }
   ],
   "source": [
    "aggregated_cpu_readings = aggregated_cpu_readings.drop(columns=[\"Unnamed: 0\"])\n",
    "aggregated_cpu_readings = aggregated_cpu_readings.set_index(\"timestamp\")\n",
    "aggregated_cpu_readings.head()"
   ]
  },
  {
   "cell_type": "markdown",
   "id": "eeb50d00",
   "metadata": {},
   "source": [
    "#### <i>Visualise the aggregated data</i>"
   ]
  },
  {
   "cell_type": "code",
   "execution_count": 21,
   "id": "9431f65f",
   "metadata": {},
   "outputs": [
    {
     "data": {
      "image/png": "[encoded data removed]",
      "text/plain": [
       "<Figure size 864x288 with 1 Axes>"
      ]
     },
     "metadata": {
      "needs_background": "light"
     },
     "output_type": "display_data"
    }
   ],
   "source": [
    "# load in the pre-processed data with TimeStamp error\n",
    "plt.figure(figsize=(12,4))\n",
    "plt.plot(aggregated_cpu_readings[\"avg cpu\"])\n",
    "plt.title(\"Average CPU Usage\")\n",
    "plt.show()"
   ]
  },
  {
   "cell_type": "code",
   "execution_count": 22,
   "id": "3f4ce8fb",
   "metadata": {},
   "outputs": [
    {
     "data": {
      "image/png": "[encoded data removed]",
      "text/plain": [
       "<Figure size 864x288 with 1 Axes>"
      ]
     },
     "metadata": {
      "needs_background": "light"
     },
     "output_type": "display_data"
    }
   ],
   "source": [
    "plt.figure(figsize=(12,4))\n",
    "plt.plot(aggregated_cpu_readings[\"max cpu\"])\n",
    "plt.title(\"Maximum CPU Usage\")\n",
    "plt.show()"
   ]
  },
  {
   "cell_type": "code",
   "execution_count": 23,
   "id": "0ce45314",
   "metadata": {},
   "outputs": [
    {
     "name": "stdout",
     "output_type": "stream",
     "text": [
      "No. of Rows with Timestamp not a multiple of 5 minutes:  2877\n",
      "Total No. of Rows:  11517\n"
     ]
    }
   ],
   "source": [
    "print(\"No. of Rows with Timestamp not a multiple of 5 minutes: \", ((aggregated_cpu_readings.index % 300 != 0)).sum())\n",
    "print(\"Total No. of Rows: \", len(aggregated_cpu_readings.index))"
   ]
  },
  {
   "cell_type": "markdown",
   "id": "0a2b3d1f",
   "metadata": {},
   "source": [
    "#### <i>Fix the aggregated data</i>\n",
    "The large fluctuation seen in the above plots was caused by the timestamp on several of the CPU Reading files being out of sync and recording data for different 5 minute windows compared to the rest of the readings. \n",
    "\n",
    "To resolve this, for each out of synce timestamp recorded, the correct timestamp that occured before and after the out of sync time stamp was obtained. A weight, which was calculated to be the fraction for which the aggregated average and maximum cpu ran for in the correct preceding and succeeding timestamps, was applied to the recorded usage and a new row for both the preceding and succeeding timestamps was added to a temporary dataframe (along with their corresponding usage recordings).  \n",
    "\n",
    "The rows with out of sync time stamps were deleted from aggregated_cpu. The temporary dataframe was concatonated onto aggregated_cpu and the resulting data frame was grouped by timestamp to sum the recorded average and max usage."
   ]
  },
  {
   "cell_type": "code",
   "execution_count": 24,
   "id": "c814da5a",
   "metadata": {},
   "outputs": [],
   "source": [
    "sub_df = pd.DataFrame()\n",
    "for time in aggregated_cpu_readings.index:\n",
    "    if time % 300 != 0:\n",
    "        # create timestamp for 5 minute period before and after\n",
    "        new_time1 = np.floor((time/(300)))*300\n",
    "        new_time2 = np.ceil((time/(300)))*300\n",
    "        # create weight for the timestamp before and after the out of sync timestamp\n",
    "        weight = ((time % 300) / 300)\n",
    "        weight1 = 1 - weight\n",
    "        weight2 = weight\n",
    "        # calculcate the weighted avg and max cpu for each timestamp\n",
    "        avg_c = aggregated_cpu_readings.loc[time, \"avg cpu\"]\n",
    "        max_c = aggregated_cpu_readings.loc[time, \"max cpu\"]\n",
    "        min_entry = pd.DataFrame({\"timestamp\":new_time1, \"avg cpu\": weight1*avg_c, \"max cpu\":weight1*max_c }, index=[0])\n",
    "        max_entry = pd.DataFrame({\"timestamp\":new_time2, \"avg cpu\": weight2*avg_c, \"max cpu\":weight2*max_c }, index=[0])\n",
    "        # add weighted usage into new row in a temporary dataframe\n",
    "        sub_df = pd.concat([sub_df, min_entry])\n",
    "        sub_df = pd.concat([sub_df, max_entry])\n",
    "\n",
    "# drop rows with out of sync entries\n",
    "aggregated_cpu_readings = aggregated_cpu_readings.drop(aggregated_cpu_readings[aggregated_cpu_readings.index % 300 != 0].index)\n",
    "# add in new entries with weight corrected values to replace the deleted entries\n",
    "aggregated_cpu_readings = pd.concat([aggregated_cpu_readings.reset_index(), sub_df])\n",
    "# aggregate\n",
    "aggregated_cpu_readings = aggregated_cpu_readings.groupby('timestamp').agg({\"avg cpu\":'sum','max cpu':'sum'})"
   ]
  },
  {
   "cell_type": "code",
   "execution_count": 25,
   "id": "1d1c534d",
   "metadata": {},
   "outputs": [],
   "source": [
    "aggregated_cpu_readings.to_csv(\"D:/FYP/AzureDatasetPacking2019/Aggregated Data/aggregated_cpu_readings_TSfixed.csv\")"
   ]
  },
  {
   "cell_type": "code",
   "execution_count": 27,
   "id": "601eae39",
   "metadata": {},
   "outputs": [
    {
     "data": {
      "text/html": [
       "<div>\n",
       "<style scoped>\n",
       "    .dataframe tbody tr th:only-of-type {\n",
       "        vertical-align: middle;\n",
       "    }\n",
       "\n",
       "    .dataframe tbody tr th {\n",
       "        vertical-align: top;\n",
       "    }\n",
       "\n",
       "    .dataframe thead th {\n",
       "        text-align: right;\n",
       "    }\n",
       "</style>\n",
       "<table border=\"1\" class=\"dataframe\">\n",
       "  <thead>\n",
       "    <tr style=\"text-align: right;\">\n",
       "      <th></th>\n",
       "      <th>avg cpu</th>\n",
       "      <th>max cpu</th>\n",
       "    </tr>\n",
       "    <tr>\n",
       "      <th>timestamp</th>\n",
       "      <th></th>\n",
       "      <th></th>\n",
       "    </tr>\n",
       "  </thead>\n",
       "  <tbody>\n",
       "    <tr>\n",
       "      <th>0.0</th>\n",
       "      <td>1.229569e+06</td>\n",
       "      <td>2.223302e+06</td>\n",
       "    </tr>\n",
       "    <tr>\n",
       "      <th>300.0</th>\n",
       "      <td>1.211322e+06</td>\n",
       "      <td>2.212393e+06</td>\n",
       "    </tr>\n",
       "    <tr>\n",
       "      <th>600.0</th>\n",
       "      <td>1.206635e+06</td>\n",
       "      <td>2.213057e+06</td>\n",
       "    </tr>\n",
       "    <tr>\n",
       "      <th>900.0</th>\n",
       "      <td>1.190369e+06</td>\n",
       "      <td>2.187572e+06</td>\n",
       "    </tr>\n",
       "    <tr>\n",
       "      <th>1200.0</th>\n",
       "      <td>1.180992e+06</td>\n",
       "      <td>2.183684e+06</td>\n",
       "    </tr>\n",
       "  </tbody>\n",
       "</table>\n",
       "</div>"
      ],
      "text/plain": [
       "                avg cpu       max cpu\n",
       "timestamp                            \n",
       "0.0        1.229569e+06  2.223302e+06\n",
       "300.0      1.211322e+06  2.212393e+06\n",
       "600.0      1.206635e+06  2.213057e+06\n",
       "900.0      1.190369e+06  2.187572e+06\n",
       "1200.0     1.180992e+06  2.183684e+06"
      ]
     },
     "execution_count": 27,
     "metadata": {},
     "output_type": "execute_result"
    }
   ],
   "source": [
    "aggregated_cpu_readings = pd.read_csv(\"D:/FYP/AzureDatasetPacking2019/Aggregated Data/aggregated_cpu_readings_TSfixed.csv\")\n",
    "# aggregated_cpu_readings = aggregated_cpu_readings.drop(columns=[\"Unnamed: 0\"])\n",
    "aggregated_cpu_readings = aggregated_cpu_readings.set_index(\"timestamp\")\n",
    "aggregated_cpu_readings.head()"
   ]
  },
  {
   "cell_type": "markdown",
   "id": "6025d7f3",
   "metadata": {},
   "source": [
    "#### <i>Visualise the fixed data</i>"
   ]
  },
  {
   "cell_type": "code",
   "execution_count": 28,
   "id": "6d0a56d1",
   "metadata": {},
   "outputs": [
    {
     "data": {
      "image/png": "[encoded data removed]",
      "text/plain": [
       "<Figure size 864x288 with 1 Axes>"
      ]
     },
     "metadata": {
      "needs_background": "light"
     },
     "output_type": "display_data"
    }
   ],
   "source": [
    "plt.figure(figsize=(12,4))\n",
    "plt.plot(aggregated_cpu_readings[\"avg cpu\"])\n",
    "plt.title('Average CPU Usage')\n",
    "plt.show()"
   ]
  },
  {
   "cell_type": "code",
   "execution_count": 29,
   "id": "f057be89",
   "metadata": {},
   "outputs": [
    {
     "data": {
      "image/png": "[encoded data removed]",
      "text/plain": [
       "<Figure size 864x288 with 1 Axes>"
      ]
     },
     "metadata": {
      "needs_background": "light"
     },
     "output_type": "display_data"
    }
   ],
   "source": [
    "plt.figure(figsize=(12,4))\n",
    "plt.plot(aggregated_cpu_readings[\"max cpu\"])\n",
    "plt.title('Maximum CPU Usage')\n",
    "plt.show()"
   ]
  },
  {
   "cell_type": "markdown",
   "id": "a73684e8",
   "metadata": {},
   "source": [
    "#### <i>Convert the timestap to a datetime instance</i>"
   ]
  },
  {
   "cell_type": "code",
   "execution_count": 30,
   "id": "5e8c62ed",
   "metadata": {},
   "outputs": [],
   "source": [
    "no_days_difference =  datetime(2016, 11, 16, 0, 0)  - datetime(1970, 1, 1, 0, 0) # = 17121\n",
    "date_time = []\n",
    "for time in aggregated_cpu_readings.index:\n",
    "    date_t = datetime.fromtimestamp(time) + timedelta(days=no_days_difference.days)\n",
    "    date_time.append(date_t)\n",
    "aggregated_cpu_readings[\"datetime\"] = date_time\n",
    "\n",
    "aggregated_cpu_readings = aggregated_cpu_readings.set_index(\"datetime\")"
   ]
  },
  {
   "cell_type": "code",
   "execution_count": 31,
   "id": "082d94ff",
   "metadata": {},
   "outputs": [
    {
     "data": {
      "text/html": [
       "<div>\n",
       "<style scoped>\n",
       "    .dataframe tbody tr th:only-of-type {\n",
       "        vertical-align: middle;\n",
       "    }\n",
       "\n",
       "    .dataframe tbody tr th {\n",
       "        vertical-align: top;\n",
       "    }\n",
       "\n",
       "    .dataframe thead th {\n",
       "        text-align: right;\n",
       "    }\n",
       "</style>\n",
       "<table border=\"1\" class=\"dataframe\">\n",
       "  <thead>\n",
       "    <tr style=\"text-align: right;\">\n",
       "      <th></th>\n",
       "      <th>avg cpu</th>\n",
       "      <th>max cpu</th>\n",
       "    </tr>\n",
       "    <tr>\n",
       "      <th>datetime</th>\n",
       "      <th></th>\n",
       "      <th></th>\n",
       "    </tr>\n",
       "  </thead>\n",
       "  <tbody>\n",
       "    <tr>\n",
       "      <th>2016-11-16 00:00:00</th>\n",
       "      <td>1.229569e+06</td>\n",
       "      <td>2.223302e+06</td>\n",
       "    </tr>\n",
       "    <tr>\n",
       "      <th>2016-11-16 00:05:00</th>\n",
       "      <td>1.211322e+06</td>\n",
       "      <td>2.212393e+06</td>\n",
       "    </tr>\n",
       "    <tr>\n",
       "      <th>2016-11-16 00:10:00</th>\n",
       "      <td>1.206635e+06</td>\n",
       "      <td>2.213057e+06</td>\n",
       "    </tr>\n",
       "    <tr>\n",
       "      <th>2016-11-16 00:15:00</th>\n",
       "      <td>1.190369e+06</td>\n",
       "      <td>2.187572e+06</td>\n",
       "    </tr>\n",
       "    <tr>\n",
       "      <th>2016-11-16 00:20:00</th>\n",
       "      <td>1.180992e+06</td>\n",
       "      <td>2.183684e+06</td>\n",
       "    </tr>\n",
       "  </tbody>\n",
       "</table>\n",
       "</div>"
      ],
      "text/plain": [
       "                          avg cpu       max cpu\n",
       "datetime                                       \n",
       "2016-11-16 00:00:00  1.229569e+06  2.223302e+06\n",
       "2016-11-16 00:05:00  1.211322e+06  2.212393e+06\n",
       "2016-11-16 00:10:00  1.206635e+06  2.213057e+06\n",
       "2016-11-16 00:15:00  1.190369e+06  2.187572e+06\n",
       "2016-11-16 00:20:00  1.180992e+06  2.183684e+06"
      ]
     },
     "execution_count": 31,
     "metadata": {},
     "output_type": "execute_result"
    }
   ],
   "source": [
    "aggregated_cpu_readings.head()"
   ]
  },
  {
   "cell_type": "code",
   "execution_count": 78,
   "id": "f518b3b3",
   "metadata": {},
   "outputs": [],
   "source": [
    "aggregated_cpu_readings.to_csv(\"D:/FYP/AzureDatasetPacking2019/Aggregated Data/aggregated_cpu_readings_correctdates.csv\")"
   ]
  },
  {
   "cell_type": "markdown",
   "id": "54bfec1c",
   "metadata": {},
   "source": [
    "### Combine the CPU readings and VM table"
   ]
  },
  {
   "cell_type": "code",
   "execution_count": 32,
   "id": "f3a3e749",
   "metadata": {},
   "outputs": [],
   "source": [
    "aggregation_vmtable = aggregation_vmtable.reset_index()\n",
    "aggregation_vmtable = aggregation_vmtable.rename({'index': 'datetime'}, axis=1)\n",
    "aggregation_vmtable = aggregation_vmtable.set_index(\"datetime\")"
   ]
  },
  {
   "cell_type": "code",
   "execution_count": 33,
   "id": "77365197",
   "metadata": {},
   "outputs": [
    {
     "data": {
      "text/html": [
       "<div>\n",
       "<style scoped>\n",
       "    .dataframe tbody tr th:only-of-type {\n",
       "        vertical-align: middle;\n",
       "    }\n",
       "\n",
       "    .dataframe tbody tr th {\n",
       "        vertical-align: top;\n",
       "    }\n",
       "\n",
       "    .dataframe thead th {\n",
       "        text-align: right;\n",
       "    }\n",
       "</style>\n",
       "<table border=\"1\" class=\"dataframe\">\n",
       "  <thead>\n",
       "    <tr style=\"text-align: right;\">\n",
       "      <th></th>\n",
       "      <th>avg cpu reading</th>\n",
       "      <th>max cpu reading</th>\n",
       "      <th>avg cpu VMTable</th>\n",
       "      <th>max cpu VMTable</th>\n",
       "      <th>p95_max_cpu</th>\n",
       "      <th>core count</th>\n",
       "      <th>memory (gb)</th>\n",
       "    </tr>\n",
       "    <tr>\n",
       "      <th>datetime</th>\n",
       "      <th></th>\n",
       "      <th></th>\n",
       "      <th></th>\n",
       "      <th></th>\n",
       "      <th></th>\n",
       "      <th></th>\n",
       "      <th></th>\n",
       "    </tr>\n",
       "  </thead>\n",
       "  <tbody>\n",
       "    <tr>\n",
       "      <th>2016-11-16 00:00:00</th>\n",
       "      <td>1.229569e+06</td>\n",
       "      <td>2.223302e+06</td>\n",
       "      <td>600026.793129</td>\n",
       "      <td>4.041458e+06</td>\n",
       "      <td>2.139499e+06</td>\n",
       "      <td>126757</td>\n",
       "      <td>335558.00</td>\n",
       "    </tr>\n",
       "    <tr>\n",
       "      <th>2016-11-16 00:05:00</th>\n",
       "      <td>1.211322e+06</td>\n",
       "      <td>2.212393e+06</td>\n",
       "      <td>600971.042478</td>\n",
       "      <td>4.044738e+06</td>\n",
       "      <td>2.141563e+06</td>\n",
       "      <td>126712</td>\n",
       "      <td>335395.25</td>\n",
       "    </tr>\n",
       "    <tr>\n",
       "      <th>2016-11-16 00:10:00</th>\n",
       "      <td>1.206635e+06</td>\n",
       "      <td>2.213057e+06</td>\n",
       "      <td>600301.813291</td>\n",
       "      <td>4.042657e+06</td>\n",
       "      <td>2.139025e+06</td>\n",
       "      <td>126516</td>\n",
       "      <td>334882.25</td>\n",
       "    </tr>\n",
       "    <tr>\n",
       "      <th>2016-11-16 00:15:00</th>\n",
       "      <td>1.190369e+06</td>\n",
       "      <td>2.187572e+06</td>\n",
       "      <td>599839.457380</td>\n",
       "      <td>4.042293e+06</td>\n",
       "      <td>2.138133e+06</td>\n",
       "      <td>126402</td>\n",
       "      <td>334636.75</td>\n",
       "    </tr>\n",
       "    <tr>\n",
       "      <th>2016-11-16 00:20:00</th>\n",
       "      <td>1.180992e+06</td>\n",
       "      <td>2.183684e+06</td>\n",
       "      <td>598782.239829</td>\n",
       "      <td>4.041869e+06</td>\n",
       "      <td>2.136908e+06</td>\n",
       "      <td>126265</td>\n",
       "      <td>334311.00</td>\n",
       "    </tr>\n",
       "  </tbody>\n",
       "</table>\n",
       "</div>"
      ],
      "text/plain": [
       "                     avg cpu reading  max cpu reading  avg cpu VMTable  \\\n",
       "datetime                                                                 \n",
       "2016-11-16 00:00:00     1.229569e+06     2.223302e+06    600026.793129   \n",
       "2016-11-16 00:05:00     1.211322e+06     2.212393e+06    600971.042478   \n",
       "2016-11-16 00:10:00     1.206635e+06     2.213057e+06    600301.813291   \n",
       "2016-11-16 00:15:00     1.190369e+06     2.187572e+06    599839.457380   \n",
       "2016-11-16 00:20:00     1.180992e+06     2.183684e+06    598782.239829   \n",
       "\n",
       "                     max cpu VMTable   p95_max_cpu  core count  memory (gb)  \n",
       "datetime                                                                     \n",
       "2016-11-16 00:00:00     4.041458e+06  2.139499e+06      126757    335558.00  \n",
       "2016-11-16 00:05:00     4.044738e+06  2.141563e+06      126712    335395.25  \n",
       "2016-11-16 00:10:00     4.042657e+06  2.139025e+06      126516    334882.25  \n",
       "2016-11-16 00:15:00     4.042293e+06  2.138133e+06      126402    334636.75  \n",
       "2016-11-16 00:20:00     4.041869e+06  2.136908e+06      126265    334311.00  "
      ]
     },
     "execution_count": 33,
     "metadata": {},
     "output_type": "execute_result"
    }
   ],
   "source": [
    "aggregation_vmtable = aggregation_vmtable.rename(columns={'index': 'datetime'})\n",
    "all_data = pd.merge(aggregated_cpu_readings, aggregation_vmtable, left_index=True, right_index=True)\n",
    "all_data = all_data.rename(columns={'avg cpu': 'avg cpu reading', 'avg_cpu': 'avg cpu VMTable',\n",
    "                                    'max cpu': 'max cpu reading', 'max_cpu': 'max cpu VMTable',\n",
    "                                    'vm_virtual_core_count': 'core count', 'vm_memory_gb': 'memory (gb)'})\n",
    "all_data.head()"
   ]
  },
  {
   "cell_type": "code",
   "execution_count": 81,
   "id": "99e2b520",
   "metadata": {},
   "outputs": [],
   "source": [
    "all_data.to_csv(\"D:/FYP/AzureDatasetPacking2019/Aggregated Data/all_data.csv\")"
   ]
  },
  {
   "cell_type": "markdown",
   "id": "c5d9c118",
   "metadata": {},
   "source": [
    "### Formatting the data for forecasting\n",
    "#### <i>Remove trend from the time series</i>\n",
    "(detrend,normalisation, rolling window, two & three step ahead)"
   ]
  },
  {
   "cell_type": "code",
   "execution_count": 34,
   "id": "59ff1d9e",
   "metadata": {
    "scrolled": true
   },
   "outputs": [
    {
     "data": {
      "text/html": [
       "<div>\n",
       "<style scoped>\n",
       "    .dataframe tbody tr th:only-of-type {\n",
       "        vertical-align: middle;\n",
       "    }\n",
       "\n",
       "    .dataframe tbody tr th {\n",
       "        vertical-align: top;\n",
       "    }\n",
       "\n",
       "    .dataframe thead th {\n",
       "        text-align: right;\n",
       "    }\n",
       "</style>\n",
       "<table border=\"1\" class=\"dataframe\">\n",
       "  <thead>\n",
       "    <tr style=\"text-align: right;\">\n",
       "      <th></th>\n",
       "      <th>avg cpu reading</th>\n",
       "      <th>max cpu reading</th>\n",
       "      <th>avg cpu VMTable</th>\n",
       "      <th>max cpu VMTable</th>\n",
       "      <th>p95_max_cpu</th>\n",
       "      <th>core count</th>\n",
       "      <th>memory (gb)</th>\n",
       "    </tr>\n",
       "    <tr>\n",
       "      <th>datetime</th>\n",
       "      <th></th>\n",
       "      <th></th>\n",
       "      <th></th>\n",
       "      <th></th>\n",
       "      <th></th>\n",
       "      <th></th>\n",
       "      <th></th>\n",
       "    </tr>\n",
       "  </thead>\n",
       "  <tbody>\n",
       "    <tr>\n",
       "      <th>2016-11-16 00:05:00</th>\n",
       "      <td>-18247.662562</td>\n",
       "      <td>-10909.187252</td>\n",
       "      <td>944.249350</td>\n",
       "      <td>3279.578777</td>\n",
       "      <td>2063.958099</td>\n",
       "      <td>-45.0</td>\n",
       "      <td>-162.75</td>\n",
       "    </tr>\n",
       "    <tr>\n",
       "      <th>2016-11-16 00:10:00</th>\n",
       "      <td>-4686.794736</td>\n",
       "      <td>663.499454</td>\n",
       "      <td>-669.229187</td>\n",
       "      <td>-2080.483273</td>\n",
       "      <td>-2537.347221</td>\n",
       "      <td>-196.0</td>\n",
       "      <td>-513.00</td>\n",
       "    </tr>\n",
       "    <tr>\n",
       "      <th>2016-11-16 00:15:00</th>\n",
       "      <td>-16266.407090</td>\n",
       "      <td>-25484.505811</td>\n",
       "      <td>-462.355911</td>\n",
       "      <td>-364.112724</td>\n",
       "      <td>-892.153017</td>\n",
       "      <td>-114.0</td>\n",
       "      <td>-245.50</td>\n",
       "    </tr>\n",
       "    <tr>\n",
       "      <th>2016-11-16 00:20:00</th>\n",
       "      <td>-9376.819149</td>\n",
       "      <td>-3887.753457</td>\n",
       "      <td>-1057.217552</td>\n",
       "      <td>-423.895115</td>\n",
       "      <td>-1225.400686</td>\n",
       "      <td>-137.0</td>\n",
       "      <td>-325.75</td>\n",
       "    </tr>\n",
       "    <tr>\n",
       "      <th>2016-11-16 00:25:00</th>\n",
       "      <td>39297.268601</td>\n",
       "      <td>100597.082507</td>\n",
       "      <td>-4534.552752</td>\n",
       "      <td>-12107.873949</td>\n",
       "      <td>-11858.432480</td>\n",
       "      <td>-772.0</td>\n",
       "      <td>-1831.00</td>\n",
       "    </tr>\n",
       "  </tbody>\n",
       "</table>\n",
       "</div>"
      ],
      "text/plain": [
       "                     avg cpu reading  max cpu reading  avg cpu VMTable  \\\n",
       "datetime                                                                 \n",
       "2016-11-16 00:05:00    -18247.662562    -10909.187252       944.249350   \n",
       "2016-11-16 00:10:00     -4686.794736       663.499454      -669.229187   \n",
       "2016-11-16 00:15:00    -16266.407090    -25484.505811      -462.355911   \n",
       "2016-11-16 00:20:00     -9376.819149     -3887.753457     -1057.217552   \n",
       "2016-11-16 00:25:00     39297.268601    100597.082507     -4534.552752   \n",
       "\n",
       "                     max cpu VMTable   p95_max_cpu  core count  memory (gb)  \n",
       "datetime                                                                     \n",
       "2016-11-16 00:05:00      3279.578777   2063.958099       -45.0      -162.75  \n",
       "2016-11-16 00:10:00     -2080.483273  -2537.347221      -196.0      -513.00  \n",
       "2016-11-16 00:15:00      -364.112724   -892.153017      -114.0      -245.50  \n",
       "2016-11-16 00:20:00      -423.895115  -1225.400686      -137.0      -325.75  \n",
       "2016-11-16 00:25:00    -12107.873949 -11858.432480      -772.0     -1831.00  "
      ]
     },
     "execution_count": 34,
     "metadata": {},
     "output_type": "execute_result"
    }
   ],
   "source": [
    "all_data = all_data.diff()\n",
    "all_data = all_data.drop(all_data.head(1).index) # first row is Null\n",
    "all_data.head()"
   ]
  },
  {
   "cell_type": "code",
   "execution_count": 83,
   "id": "b295287c",
   "metadata": {},
   "outputs": [],
   "source": [
    "all_data.to_csv(\"D:/FYP/AzureDatasetPacking2019/Aggregated Data/all_data_differneciated.csv\")"
   ]
  },
  {
   "cell_type": "markdown",
   "id": "b8f1f3b0",
   "metadata": {},
   "source": [
    "#### <i>Divide into train and test sets</i>"
   ]
  },
  {
   "cell_type": "code",
   "execution_count": 35,
   "id": "306b1862",
   "metadata": {},
   "outputs": [
    {
     "data": {
      "text/plain": [
       "((6911, 7), (1728, 7))"
      ]
     },
     "execution_count": 35,
     "metadata": {},
     "output_type": "execute_result"
    }
   ],
   "source": [
    "train, test = train_test_split(all_data, test_size = 0.2, random_state= 1, shuffle=False)\n",
    "train.shape, test.shape"
   ]
  },
  {
   "cell_type": "markdown",
   "id": "9b0369fe",
   "metadata": {},
   "source": [
    "#### <i>Normalise the data</i>"
   ]
  },
  {
   "cell_type": "code",
   "execution_count": 36,
   "id": "062adf8e",
   "metadata": {},
   "outputs": [],
   "source": [
    "scaler = MinMaxScaler()\n",
    "col_names = ['avg cpu reading', 'max cpu reading', 'avg cpu VMTable', 'max cpu VMTable', 'p95_max_cpu', 'core count', 'memory (gb)']\n",
    "# scale the training set\n",
    "train[col_names] = scaler.fit_transform(train[col_names])\n",
    "# apply the scale to the test set\n",
    "test[col_names] = scaler.transform(test[col_names])"
   ]
  },
  {
   "cell_type": "code",
   "execution_count": 37,
   "id": "f61051a9",
   "metadata": {},
   "outputs": [],
   "source": [
    "norm_data = pd.concat([train, test])"
   ]
  },
  {
   "cell_type": "code",
   "execution_count": 38,
   "id": "80169047",
   "metadata": {},
   "outputs": [
    {
     "data": {
      "text/html": [
       "<div>\n",
       "<style scoped>\n",
       "    .dataframe tbody tr th:only-of-type {\n",
       "        vertical-align: middle;\n",
       "    }\n",
       "\n",
       "    .dataframe tbody tr th {\n",
       "        vertical-align: top;\n",
       "    }\n",
       "\n",
       "    .dataframe thead th {\n",
       "        text-align: right;\n",
       "    }\n",
       "</style>\n",
       "<table border=\"1\" class=\"dataframe\">\n",
       "  <thead>\n",
       "    <tr style=\"text-align: right;\">\n",
       "      <th></th>\n",
       "      <th>avg cpu reading</th>\n",
       "      <th>max cpu reading</th>\n",
       "      <th>avg cpu VMTable</th>\n",
       "      <th>max cpu VMTable</th>\n",
       "      <th>p95_max_cpu</th>\n",
       "      <th>core count</th>\n",
       "      <th>memory (gb)</th>\n",
       "    </tr>\n",
       "    <tr>\n",
       "      <th>datetime</th>\n",
       "      <th></th>\n",
       "      <th></th>\n",
       "      <th></th>\n",
       "      <th></th>\n",
       "      <th></th>\n",
       "      <th></th>\n",
       "      <th></th>\n",
       "    </tr>\n",
       "  </thead>\n",
       "  <tbody>\n",
       "    <tr>\n",
       "      <th>2016-11-16 00:05:00</th>\n",
       "      <td>0.473108</td>\n",
       "      <td>0.507159</td>\n",
       "      <td>0.642697</td>\n",
       "      <td>0.389070</td>\n",
       "      <td>0.457200</td>\n",
       "      <td>0.542533</td>\n",
       "      <td>0.556540</td>\n",
       "    </tr>\n",
       "    <tr>\n",
       "      <th>2016-11-16 00:10:00</th>\n",
       "      <td>0.497531</td>\n",
       "      <td>0.513979</td>\n",
       "      <td>0.621276</td>\n",
       "      <td>0.368893</td>\n",
       "      <td>0.436491</td>\n",
       "      <td>0.526355</td>\n",
       "      <td>0.537675</td>\n",
       "    </tr>\n",
       "    <tr>\n",
       "      <th>2016-11-16 00:15:00</th>\n",
       "      <td>0.476676</td>\n",
       "      <td>0.498570</td>\n",
       "      <td>0.624023</td>\n",
       "      <td>0.375354</td>\n",
       "      <td>0.443895</td>\n",
       "      <td>0.535140</td>\n",
       "      <td>0.552083</td>\n",
       "    </tr>\n",
       "    <tr>\n",
       "      <th>2016-11-16 00:20:00</th>\n",
       "      <td>0.489084</td>\n",
       "      <td>0.511297</td>\n",
       "      <td>0.616125</td>\n",
       "      <td>0.375129</td>\n",
       "      <td>0.442395</td>\n",
       "      <td>0.532676</td>\n",
       "      <td>0.547761</td>\n",
       "    </tr>\n",
       "    <tr>\n",
       "      <th>2016-11-16 00:25:00</th>\n",
       "      <td>0.576745</td>\n",
       "      <td>0.572872</td>\n",
       "      <td>0.569960</td>\n",
       "      <td>0.331148</td>\n",
       "      <td>0.394540</td>\n",
       "      <td>0.464645</td>\n",
       "      <td>0.466687</td>\n",
       "    </tr>\n",
       "  </tbody>\n",
       "</table>\n",
       "</div>"
      ],
      "text/plain": [
       "                     avg cpu reading  max cpu reading  avg cpu VMTable  \\\n",
       "datetime                                                                 \n",
       "2016-11-16 00:05:00         0.473108         0.507159         0.642697   \n",
       "2016-11-16 00:10:00         0.497531         0.513979         0.621276   \n",
       "2016-11-16 00:15:00         0.476676         0.498570         0.624023   \n",
       "2016-11-16 00:20:00         0.489084         0.511297         0.616125   \n",
       "2016-11-16 00:25:00         0.576745         0.572872         0.569960   \n",
       "\n",
       "                     max cpu VMTable  p95_max_cpu  core count  memory (gb)  \n",
       "datetime                                                                    \n",
       "2016-11-16 00:05:00         0.389070     0.457200    0.542533     0.556540  \n",
       "2016-11-16 00:10:00         0.368893     0.436491    0.526355     0.537675  \n",
       "2016-11-16 00:15:00         0.375354     0.443895    0.535140     0.552083  \n",
       "2016-11-16 00:20:00         0.375129     0.442395    0.532676     0.547761  \n",
       "2016-11-16 00:25:00         0.331148     0.394540    0.464645     0.466687  "
      ]
     },
     "execution_count": 38,
     "metadata": {},
     "output_type": "execute_result"
    }
   ],
   "source": [
    "norm_data.head()"
   ]
  },
  {
   "cell_type": "code",
   "execution_count": 87,
   "id": "c6541b71",
   "metadata": {},
   "outputs": [],
   "source": [
    "norm_data.to_csv(\"C:/Users/user/OneDrive - University College Cork/UCC/Year 4/FYP/Normalised Data/all_data_norm.csv\")"
   ]
  }
 ],
 "metadata": {
  "kernelspec": {
   "display_name": "Python 3 (ipykernel)",
   "language": "python",
   "name": "python3"
  },
  "language_info": {
   "codemirror_mode": {
    "name": "ipython",
    "version": 3
   },
   "file_extension": ".py",
   "mimetype": "text/x-python",
   "name": "python",
   "nbconvert_exporter": "python",
   "pygments_lexer": "ipython3",
   "version": "3.9.7"
  }
 },
 "nbformat": 4,
 "nbformat_minor": 5
}
