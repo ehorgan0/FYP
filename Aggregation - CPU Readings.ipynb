{
 "cells": [
  {
   "cell_type": "markdown",
   "id": "9b23b6d2",
   "metadata": {},
   "source": [
    "# Import Statements"
   ]
  },
  {
   "cell_type": "code",
   "execution_count": 1,
   "id": "6155fa48",
   "metadata": {},
   "outputs": [],
   "source": [
    "import numpy as np\n",
    "import pandas as pd\n",
    "import time\n",
    "from datetime import date, datetime, timedelta\n",
    "import matplotlib.pyplot as plt\n",
    "import os"
   ]
  },
  {
   "cell_type": "markdown",
   "id": "3d2dd628",
   "metadata": {},
   "source": [
    "# Reading the Data\n",
    "There were one hundred and twenty five files containing the CPU readings. Each file contained the minimum, average, and maximum for each VM at a specific timestamp."
   ]
  },
  {
   "cell_type": "code",
   "execution_count": 2,
   "id": "e9ef0213",
   "metadata": {
    "scrolled": false
   },
   "outputs": [
    {
     "data": {
      "text/html": [
       "<div>\n",
       "<style scoped>\n",
       "    .dataframe tbody tr th:only-of-type {\n",
       "        vertical-align: middle;\n",
       "    }\n",
       "\n",
       "    .dataframe tbody tr th {\n",
       "        vertical-align: top;\n",
       "    }\n",
       "\n",
       "    .dataframe thead th {\n",
       "        text-align: right;\n",
       "    }\n",
       "</style>\n",
       "<table border=\"1\" class=\"dataframe\">\n",
       "  <thead>\n",
       "    <tr style=\"text-align: right;\">\n",
       "      <th></th>\n",
       "      <th>timestamp</th>\n",
       "      <th>vm id</th>\n",
       "      <th>min cpu</th>\n",
       "      <th>max cpu</th>\n",
       "      <th>avg cpu</th>\n",
       "    </tr>\n",
       "  </thead>\n",
       "  <tbody>\n",
       "    <tr>\n",
       "      <th>0</th>\n",
       "      <td>0</td>\n",
       "      <td>+ZcrOp5/c/fJ6mVgP5qMZlOAGDwyjaaDNM0WoWOt2IDb47...</td>\n",
       "      <td>2.052803</td>\n",
       "      <td>3.911587</td>\n",
       "      <td>2.869790</td>\n",
       "    </tr>\n",
       "    <tr>\n",
       "      <th>1</th>\n",
       "      <td>0</td>\n",
       "      <td>2zrgeOqUDy+l0GVi5NXudU+3sqZH+nLowfcz+D/JsCymTX...</td>\n",
       "      <td>1.646950</td>\n",
       "      <td>8.794403</td>\n",
       "      <td>3.254472</td>\n",
       "    </tr>\n",
       "    <tr>\n",
       "      <th>2</th>\n",
       "      <td>0</td>\n",
       "      <td>/34Wh1Kq/qkNkW0tQrMiQ1eZ8hg9hHopydCzsXriefhgrn...</td>\n",
       "      <td>2.440088</td>\n",
       "      <td>6.941048</td>\n",
       "      <td>4.336240</td>\n",
       "    </tr>\n",
       "    <tr>\n",
       "      <th>3</th>\n",
       "      <td>0</td>\n",
       "      <td>2lzdXk1Rqn1ibH2kZhGamYTMvVcRP6+x8b5zGiD/8t++5B...</td>\n",
       "      <td>0.302992</td>\n",
       "      <td>2.046712</td>\n",
       "      <td>0.970692</td>\n",
       "    </tr>\n",
       "    <tr>\n",
       "      <th>4</th>\n",
       "      <td>0</td>\n",
       "      <td>0GrUQuLhCER5bWWcoJAgblPJWkaU4v3nf+NUrZnFTlXWEK...</td>\n",
       "      <td>1.515922</td>\n",
       "      <td>4.471657</td>\n",
       "      <td>2.438805</td>\n",
       "    </tr>\n",
       "  </tbody>\n",
       "</table>\n",
       "</div>"
      ],
      "text/plain": [
       "   timestamp                                              vm id   min cpu  \\\n",
       "0          0  +ZcrOp5/c/fJ6mVgP5qMZlOAGDwyjaaDNM0WoWOt2IDb47...  2.052803   \n",
       "1          0  2zrgeOqUDy+l0GVi5NXudU+3sqZH+nLowfcz+D/JsCymTX...  1.646950   \n",
       "2          0  /34Wh1Kq/qkNkW0tQrMiQ1eZ8hg9hHopydCzsXriefhgrn...  2.440088   \n",
       "3          0  2lzdXk1Rqn1ibH2kZhGamYTMvVcRP6+x8b5zGiD/8t++5B...  0.302992   \n",
       "4          0  0GrUQuLhCER5bWWcoJAgblPJWkaU4v3nf+NUrZnFTlXWEK...  1.515922   \n",
       "\n",
       "    max cpu   avg cpu  \n",
       "0  3.911587  2.869790  \n",
       "1  8.794403  3.254472  \n",
       "2  6.941048  4.336240  \n",
       "3  2.046712  0.970692  \n",
       "4  4.471657  2.438805  "
      ]
     },
     "execution_count": 2,
     "metadata": {},
     "output_type": "execute_result"
    }
   ],
   "source": [
    "cpu_readings1 = pd.read_csv('D:/FYP/AzureDatasetPacking2019/VM CPU Readings/vm_cpu_readings-file-1-of-125.csv.gz', \n",
    "                           compression='gzip', names=['timestamp', 'vm id', 'min cpu', 'max cpu', 'avg cpu'], \n",
    "                           sep=',', quotechar='\"')\n",
    "cpu_readings1.head()"
   ]
  },
  {
   "cell_type": "code",
   "execution_count": 5,
   "id": "164f98af",
   "metadata": {},
   "outputs": [],
   "source": [
    "cpu_readings1.head().to_csv(\"C:/Users/user/OneDrive - University College Cork/UCC/Year 4/FYP/Final Report/Tables/CPU Readings 1.csv\")"
   ]
  },
  {
   "cell_type": "code",
   "execution_count": 3,
   "id": "dfa2efaa",
   "metadata": {},
   "outputs": [
    {
     "name": "stdout",
     "output_type": "stream",
     "text": [
      "No. of Rows with Timestamp not a multiple of 5 minutes:  0\n",
      "Total No. of Rows:  10000000\n"
     ]
    }
   ],
   "source": [
    "print(\"No. of Rows with Timestamp not a multiple of 5 minutes: \", ((cpu_readings1[\"timestamp\"] % 300 != 0)).sum())\n",
    "print(\"Total No. of Rows: \", len(cpu_readings1.index))"
   ]
  },
  {
   "cell_type": "markdown",
   "id": "3c674dfb",
   "metadata": {},
   "source": [
    "# Pre-Processing\n",
    "In order to process these files, each individual file was first aggregated by time stamp to get the total sum of the average and maximum CPU usage at each time stamp."
   ]
  },
  {
   "cell_type": "code",
   "execution_count": 9,
   "id": "9bec3ff8",
   "metadata": {
    "scrolled": false
   },
   "outputs": [],
   "source": [
    "for file in os.listdir(\"F:/FYP/AzureDatasetPacking2019/VM CPU Readings\"):\n",
    "    cpu_memory_reading = pd.read_csv(\"F:/FYP/AzureDatasetPacking2019/VM CPU Readings/\" + file, compression='gzip', \n",
    "                                 names=['timestamp', 'vm id', 'min cpu', 'max cpu', 'avg cpu'], sep=',', quotechar='\"')\n",
    "    cpu_memory_reading = cpu_memory_reading.groupby('timestamp').agg({\"avg cpu\":'sum',\n",
    "                                            'max cpu':'sum'})\n",
    "    cpu_memory_reading.to_csv(\"C:/Users/ehlocal/OneDrive - University College Cork/UCC/Year 4/FYP/CPU Memory Aggregation 2/\" + str(file[0:-7]) + \".csv\")"
   ]
  },
  {
   "cell_type": "markdown",
   "id": "e0555682",
   "metadata": {},
   "source": [
    "The individually aggregated files were combined into a single dataframe. Then as the readings in each file were ordered by timestamp, the last time stamp in one file was sometimes the same timestamp as the first timestamp in the next file resulting in rows with the same timestamp. To resolve this, the aggregation that had been run on the single files was implented once more on the dataframe that combined all 125 files."
   ]
  },
  {
   "cell_type": "code",
   "execution_count": 3,
   "id": "828f2d9a",
   "metadata": {},
   "outputs": [],
   "source": [
    "aggregated_cpu_readings = pd.DataFrame()\n",
    "for file in os.listdir(\"D:/FYP/AzureDatasetPacking2019/Aggregated Data/CPU Readings Aggregation\"):\n",
    "    individ_file = pd.read_csv(\"D:/FYP/AzureDatasetPacking2019/Aggregated Data/CPU Readings Aggregation/\" + file)\n",
    "    aggregated_cpu_readings = aggregated_cpu_readings.append(individ_file)"
   ]
  },
  {
   "cell_type": "code",
   "execution_count": 4,
   "id": "c2374da1",
   "metadata": {
    "scrolled": true
   },
   "outputs": [
    {
     "data": {
      "text/plain": [
       "(11641, 3)"
      ]
     },
     "execution_count": 4,
     "metadata": {},
     "output_type": "execute_result"
    }
   ],
   "source": [
    "aggregated_cpu_readings.shape"
   ]
  },
  {
   "cell_type": "code",
   "execution_count": 5,
   "id": "fa226b12",
   "metadata": {
    "scrolled": true
   },
   "outputs": [
    {
     "data": {
      "text/plain": [
       "11517"
      ]
     },
     "execution_count": 5,
     "metadata": {},
     "output_type": "execute_result"
    }
   ],
   "source": [
    "len(np.unique(aggregated_cpu_readings[\"timestamp\"]))"
   ]
  },
  {
   "cell_type": "code",
   "execution_count": 6,
   "id": "73257131",
   "metadata": {
    "scrolled": true
   },
   "outputs": [
    {
     "data": {
      "text/html": [
       "<div>\n",
       "<style scoped>\n",
       "    .dataframe tbody tr th:only-of-type {\n",
       "        vertical-align: middle;\n",
       "    }\n",
       "\n",
       "    .dataframe tbody tr th {\n",
       "        vertical-align: top;\n",
       "    }\n",
       "\n",
       "    .dataframe thead th {\n",
       "        text-align: right;\n",
       "    }\n",
       "</style>\n",
       "<table border=\"1\" class=\"dataframe\">\n",
       "  <thead>\n",
       "    <tr style=\"text-align: right;\">\n",
       "      <th></th>\n",
       "      <th>timestamp</th>\n",
       "      <th>avg cpu</th>\n",
       "      <th>max cpu</th>\n",
       "    </tr>\n",
       "  </thead>\n",
       "  <tbody>\n",
       "    <tr>\n",
       "      <th>70</th>\n",
       "      <td>21000</td>\n",
       "      <td>7.566361e+05</td>\n",
       "      <td>1.451319e+06</td>\n",
       "    </tr>\n",
       "    <tr>\n",
       "      <th>0</th>\n",
       "      <td>188400</td>\n",
       "      <td>5.870905e+05</td>\n",
       "      <td>1.115624e+06</td>\n",
       "    </tr>\n",
       "    <tr>\n",
       "      <th>71</th>\n",
       "      <td>209700</td>\n",
       "      <td>3.570706e+05</td>\n",
       "      <td>6.690535e+05</td>\n",
       "    </tr>\n",
       "    <tr>\n",
       "      <th>0</th>\n",
       "      <td>2061600</td>\n",
       "      <td>1.077751e+06</td>\n",
       "      <td>1.940617e+06</td>\n",
       "    </tr>\n",
       "    <tr>\n",
       "      <th>138</th>\n",
       "      <td>2082300</td>\n",
       "      <td>7.953052e+05</td>\n",
       "      <td>1.454434e+06</td>\n",
       "    </tr>\n",
       "    <tr>\n",
       "      <th>...</th>\n",
       "      <td>...</td>\n",
       "      <td>...</td>\n",
       "      <td>...</td>\n",
       "    </tr>\n",
       "    <tr>\n",
       "      <th>142</th>\n",
       "      <td>2020200</td>\n",
       "      <td>2.723892e+05</td>\n",
       "      <td>4.982031e+05</td>\n",
       "    </tr>\n",
       "    <tr>\n",
       "      <th>0</th>\n",
       "      <td>2020200</td>\n",
       "      <td>8.747763e+05</td>\n",
       "      <td>1.601421e+06</td>\n",
       "    </tr>\n",
       "    <tr>\n",
       "      <th>140</th>\n",
       "      <td>2041200</td>\n",
       "      <td>2.942990e+05</td>\n",
       "      <td>5.201345e+05</td>\n",
       "    </tr>\n",
       "    <tr>\n",
       "      <th>0</th>\n",
       "      <td>2041200</td>\n",
       "      <td>1.030168e+06</td>\n",
       "      <td>1.825420e+06</td>\n",
       "    </tr>\n",
       "    <tr>\n",
       "      <th>136</th>\n",
       "      <td>2061600</td>\n",
       "      <td>2.048815e+05</td>\n",
       "      <td>3.685082e+05</td>\n",
       "    </tr>\n",
       "  </tbody>\n",
       "</table>\n",
       "<p>248 rows × 3 columns</p>\n",
       "</div>"
      ],
      "text/plain": [
       "     timestamp       avg cpu       max cpu\n",
       "70       21000  7.566361e+05  1.451319e+06\n",
       "0       188400  5.870905e+05  1.115624e+06\n",
       "71      209700  3.570706e+05  6.690535e+05\n",
       "0      2061600  1.077751e+06  1.940617e+06\n",
       "138    2082300  7.953052e+05  1.454434e+06\n",
       "..         ...           ...           ...\n",
       "142    2020200  2.723892e+05  4.982031e+05\n",
       "0      2020200  8.747763e+05  1.601421e+06\n",
       "140    2041200  2.942990e+05  5.201345e+05\n",
       "0      2041200  1.030168e+06  1.825420e+06\n",
       "136    2061600  2.048815e+05  3.685082e+05\n",
       "\n",
       "[248 rows x 3 columns]"
      ]
     },
     "execution_count": 6,
     "metadata": {},
     "output_type": "execute_result"
    }
   ],
   "source": [
    "aggregated_cpu_readings[aggregated_cpu_readings[\"timestamp\"].duplicated(keep=False)]"
   ]
  },
  {
   "cell_type": "code",
   "execution_count": 37,
   "id": "feb2c600",
   "metadata": {
    "scrolled": true
   },
   "outputs": [
    {
     "data": {
      "text/plain": [
       "124"
      ]
     },
     "execution_count": 37,
     "metadata": {},
     "output_type": "execute_result"
    }
   ],
   "source": [
    "11641 - 11517 # number of duplicates \n",
    "# most likely from concatonating the separate files which may have had overlapping time intervals at start/end of each file"
   ]
  },
  {
   "cell_type": "code",
   "execution_count": null,
   "id": "685ef0a3",
   "metadata": {},
   "outputs": [],
   "source": [
    "aggregated_cpu = aggregated_cpu.groupby('timestamp').agg({\"avg cpu\":'sum','max cpu':'sum'})"
   ]
  },
  {
   "cell_type": "code",
   "execution_count": 2,
   "id": "07826ed5",
   "metadata": {},
   "outputs": [
    {
     "ename": "NameError",
     "evalue": "name 'aggregated_cpu' is not defined",
     "output_type": "error",
     "traceback": [
      "\u001b[1;31m---------------------------------------------------------------------------\u001b[0m",
      "\u001b[1;31mNameError\u001b[0m                                 Traceback (most recent call last)",
      "\u001b[1;32m~\\AppData\\Local\\Temp/ipykernel_13488/2992564754.py\u001b[0m in \u001b[0;36m<module>\u001b[1;34m\u001b[0m\n\u001b[1;32m----> 1\u001b[1;33m \u001b[0maggregated_cpu\u001b[0m\u001b[1;33m.\u001b[0m\u001b[0mto_csv\u001b[0m\u001b[1;33m(\u001b[0m\u001b[1;34m\"C:/Users/ehlocal/OneDrive - University College Cork/UCC/Year 4/FYP/CPU Memory Aggregation 2/aggregated_cpu_take2.csv\"\u001b[0m\u001b[1;33m)\u001b[0m\u001b[1;33m\u001b[0m\u001b[1;33m\u001b[0m\u001b[0m\n\u001b[0m",
      "\u001b[1;31mNameError\u001b[0m: name 'aggregated_cpu' is not defined"
     ]
    }
   ],
   "source": [
    "aggregated_cpu.to_csv(\"C:/Users/ehlocal/OneDrive - University College Cork/UCC/Year 4/FYP/CPU Memory Aggregation 2/aggregated_cpu_take2.csv\")"
   ]
  },
  {
   "cell_type": "markdown",
   "id": "ab20d475",
   "metadata": {},
   "source": [
    "### Load the aggregated data"
   ]
  },
  {
   "cell_type": "code",
   "execution_count": 3,
   "id": "1587d904",
   "metadata": {},
   "outputs": [],
   "source": [
    "aggregated_cpu = pd.read_csv(\"D:/FYP/AzureDatasetPacking2019/Aggregated Data/aggregated_cpu_readings_TSerror.csv\")"
   ]
  },
  {
   "cell_type": "code",
   "execution_count": 4,
   "id": "cc00f410",
   "metadata": {},
   "outputs": [],
   "source": [
    "aggregated_cpu = aggregated_cpu.set_index(\"timestamp\")"
   ]
  },
  {
   "cell_type": "code",
   "execution_count": 5,
   "id": "b8d3a488",
   "metadata": {
    "scrolled": true
   },
   "outputs": [
    {
     "data": {
      "text/html": [
       "<div>\n",
       "<style scoped>\n",
       "    .dataframe tbody tr th:only-of-type {\n",
       "        vertical-align: middle;\n",
       "    }\n",
       "\n",
       "    .dataframe tbody tr th {\n",
       "        vertical-align: top;\n",
       "    }\n",
       "\n",
       "    .dataframe thead th {\n",
       "        text-align: right;\n",
       "    }\n",
       "</style>\n",
       "<table border=\"1\" class=\"dataframe\">\n",
       "  <thead>\n",
       "    <tr style=\"text-align: right;\">\n",
       "      <th></th>\n",
       "      <th>Unnamed: 0</th>\n",
       "      <th>avg cpu</th>\n",
       "      <th>max cpu</th>\n",
       "    </tr>\n",
       "    <tr>\n",
       "      <th>timestamp</th>\n",
       "      <th></th>\n",
       "      <th></th>\n",
       "      <th></th>\n",
       "    </tr>\n",
       "  </thead>\n",
       "  <tbody>\n",
       "    <tr>\n",
       "      <th>2591100</th>\n",
       "      <td>11512</td>\n",
       "      <td>1.224160e+06</td>\n",
       "      <td>2.187872e+06</td>\n",
       "    </tr>\n",
       "    <tr>\n",
       "      <th>2591200</th>\n",
       "      <td>11513</td>\n",
       "      <td>1.150015e+02</td>\n",
       "      <td>2.985789e+02</td>\n",
       "    </tr>\n",
       "    <tr>\n",
       "      <th>2591400</th>\n",
       "      <td>11514</td>\n",
       "      <td>1.201418e+06</td>\n",
       "      <td>2.156185e+06</td>\n",
       "    </tr>\n",
       "    <tr>\n",
       "      <th>2591500</th>\n",
       "      <td>11515</td>\n",
       "      <td>9.492640e+01</td>\n",
       "      <td>1.661888e+02</td>\n",
       "    </tr>\n",
       "    <tr>\n",
       "      <th>2591700</th>\n",
       "      <td>11516</td>\n",
       "      <td>1.207811e+06</td>\n",
       "      <td>2.190316e+06</td>\n",
       "    </tr>\n",
       "  </tbody>\n",
       "</table>\n",
       "</div>"
      ],
      "text/plain": [
       "           Unnamed: 0       avg cpu       max cpu\n",
       "timestamp                                        \n",
       "2591100         11512  1.224160e+06  2.187872e+06\n",
       "2591200         11513  1.150015e+02  2.985789e+02\n",
       "2591400         11514  1.201418e+06  2.156185e+06\n",
       "2591500         11515  9.492640e+01  1.661888e+02\n",
       "2591700         11516  1.207811e+06  2.190316e+06"
      ]
     },
     "execution_count": 5,
     "metadata": {},
     "output_type": "execute_result"
    }
   ],
   "source": [
    "aggregated_cpu.tail()"
   ]
  },
  {
   "cell_type": "code",
   "execution_count": 7,
   "id": "62f05fcc",
   "metadata": {
    "scrolled": true
   },
   "outputs": [
    {
     "data": {
      "image/png": "[encoded data removed]",
      "text/plain": [
       "<Figure size 720x288 with 1 Axes>"
      ]
     },
     "metadata": {
      "needs_background": "light"
     },
     "output_type": "display_data"
    }
   ],
   "source": [
    "plt.figure(figsize=(10,4))\n",
    "plt.plot(aggregated_cpu[\"avg cpu\"])\n",
    "plt.ticklabel_format(axis='both', style='plain')\n",
    "plt.show()"
   ]
  },
  {
   "cell_type": "code",
   "execution_count": 8,
   "id": "c6bd84dc",
   "metadata": {},
   "outputs": [
    {
     "data": {
      "image/png": "[encoded data removed]",
      "text/plain": [
       "<Figure size 720x288 with 1 Axes>"
      ]
     },
     "metadata": {
      "needs_background": "light"
     },
     "output_type": "display_data"
    }
   ],
   "source": [
    "plt.figure(figsize=(10,4))\n",
    "plt.plot(aggregated_cpu[\"max cpu\"])\n",
    "plt.ticklabel_format(axis='both', style='plain')\n",
    "plt.show()"
   ]
  },
  {
   "cell_type": "code",
   "execution_count": 8,
   "id": "772a1008",
   "metadata": {},
   "outputs": [
    {
     "name": "stdout",
     "output_type": "stream",
     "text": [
      "No. of Rows with Timestamp not a multiple of 5 minutes:  2877\n",
      "Total No. of Rows:  11517\n"
     ]
    }
   ],
   "source": [
    "print(\"No. of Rows with Timestamp not a multiple of 5 minutes: \", ((aggregated_cpu.index % 300 != 0)).sum())\n",
    "print(\"Total No. of Rows: \", len(aggregated_cpu.index))"
   ]
  },
  {
   "cell_type": "markdown",
   "id": "4aabb222",
   "metadata": {},
   "source": [
    "### Fix the Aggregated Data\n",
    "The large fluxuation in the above plots was caused by the timestamp on several of the CPU Reading files being out of sync and recording data for different 5 minute windows compared to the rest of the readings. To resolve this, we created a temporary data frame. For each out of synce timestamp recorded, we got the correct timestamp that occured before and after the out of sync time stamp. A weight, which was calculated to be the fraction for which the aggregated average and max cpu ran for in the correct preceding and succeeding timestamps, was applied to the recorded usage and a new row for both the preceding and succeeding timestamps was added to the temporary dataframe (along with their corresponding usage recordings). The rows with out of sync time stamps were deleted from aggregated_cpu. The temporary dataframe was concatonated onto aggregated_cpu and the resulting data frame was grouped by timestamp to sum the recorded average and max usage."
   ]
  },
  {
   "cell_type": "code",
   "execution_count": 9,
   "id": "3b56edc3",
   "metadata": {
    "scrolled": false
   },
   "outputs": [
    {
     "name": "stdout",
     "output_type": "stream",
     "text": [
      "100\n"
     ]
    },
    {
     "data": {
      "text/plain": [
       "(0.6666666666666667, 0.3333333333333333)"
      ]
     },
     "execution_count": 9,
     "metadata": {},
     "output_type": "execute_result"
    }
   ],
   "source": [
    "print(400%300 )\n",
    "# correct timestamp 300, 600\n",
    "1 - 400%300 / 300, (400%300 / 300) # 2/3 of 400 ts start happens in 300 ts and 1/3 happens in 600 ts"
   ]
  },
  {
   "cell_type": "code",
   "execution_count": 10,
   "id": "a7c1f561",
   "metadata": {},
   "outputs": [
    {
     "name": "stdout",
     "output_type": "stream",
     "text": [
      "200\n"
     ]
    },
    {
     "data": {
      "text/plain": [
       "(0.33333333333333337, 0.6666666666666666)"
      ]
     },
     "execution_count": 10,
     "metadata": {},
     "output_type": "execute_result"
    }
   ],
   "source": [
    "print(500%300 )\n",
    "# timestamp 300, 600\n",
    "1 - 500%300 / 300, (500%300 / 300) # 1/3 of 400 ts start happens in 300 ts and 2/3 happens in 600 ts"
   ]
  },
  {
   "cell_type": "code",
   "execution_count": 11,
   "id": "e28da99f",
   "metadata": {},
   "outputs": [
    {
     "data": {
      "text/html": [
       "<div>\n",
       "<style scoped>\n",
       "    .dataframe tbody tr th:only-of-type {\n",
       "        vertical-align: middle;\n",
       "    }\n",
       "\n",
       "    .dataframe tbody tr th {\n",
       "        vertical-align: top;\n",
       "    }\n",
       "\n",
       "    .dataframe thead th {\n",
       "        text-align: right;\n",
       "    }\n",
       "</style>\n",
       "<table border=\"1\" class=\"dataframe\">\n",
       "  <thead>\n",
       "    <tr style=\"text-align: right;\">\n",
       "      <th></th>\n",
       "      <th>avg cpu</th>\n",
       "      <th>max cpu</th>\n",
       "    </tr>\n",
       "    <tr>\n",
       "      <th>timestamp</th>\n",
       "      <th></th>\n",
       "      <th></th>\n",
       "    </tr>\n",
       "  </thead>\n",
       "  <tbody>\n",
       "    <tr>\n",
       "      <th>2590500.0</th>\n",
       "      <td>1.242130e+06</td>\n",
       "      <td>2.233173e+06</td>\n",
       "    </tr>\n",
       "    <tr>\n",
       "      <th>2590800.0</th>\n",
       "      <td>1.235946e+06</td>\n",
       "      <td>2.219454e+06</td>\n",
       "    </tr>\n",
       "    <tr>\n",
       "      <th>2591100.0</th>\n",
       "      <td>1.224276e+06</td>\n",
       "      <td>2.188154e+06</td>\n",
       "    </tr>\n",
       "    <tr>\n",
       "      <th>2591400.0</th>\n",
       "      <td>1.201519e+06</td>\n",
       "      <td>2.156395e+06</td>\n",
       "    </tr>\n",
       "    <tr>\n",
       "      <th>2591700.0</th>\n",
       "      <td>1.207842e+06</td>\n",
       "      <td>2.190372e+06</td>\n",
       "    </tr>\n",
       "  </tbody>\n",
       "</table>\n",
       "</div>"
      ],
      "text/plain": [
       "                avg cpu       max cpu\n",
       "timestamp                            \n",
       "2590500.0  1.242130e+06  2.233173e+06\n",
       "2590800.0  1.235946e+06  2.219454e+06\n",
       "2591100.0  1.224276e+06  2.188154e+06\n",
       "2591400.0  1.201519e+06  2.156395e+06\n",
       "2591700.0  1.207842e+06  2.190372e+06"
      ]
     },
     "execution_count": 11,
     "metadata": {},
     "output_type": "execute_result"
    }
   ],
   "source": [
    "sub_df = pd.DataFrame()\n",
    "for time in aggregated_cpu.index:\n",
    "    if time % 300 != 0:\n",
    "        # create timestamp for 5 minute period before and after\n",
    "        new_time1 = np.floor((time/(300)))*300\n",
    "        new_time2 = np.ceil((time/(300)))*300\n",
    "        # create weight for the timestamp before and after the out of sync timestamp\n",
    "        weight = ((time % 300) / 300)\n",
    "        weight1 = 1 - weight\n",
    "        weight2 = weight\n",
    "        # calculcate the weighted avg and max cpu for each timestamp\n",
    "        avg_c = aggregated_cpu.loc[time, \"avg cpu\"]\n",
    "        max_c = aggregated_cpu.loc[time, \"max cpu\"]\n",
    "        min_entry = pd.DataFrame({\"timestamp\":new_time1, \"avg cpu\": weight1*avg_c, \"max cpu\":weight1*max_c }, index=[0])\n",
    "        max_entry = pd.DataFrame({\"timestamp\":new_time2, \"avg cpu\": weight2*avg_c, \"max cpu\":weight2*max_c }, index=[0])\n",
    "        # add weighted usage into new row in a temporary dataframe\n",
    "        sub_df = pd.concat([sub_df, min_entry])\n",
    "        sub_df = pd.concat([sub_df, max_entry])\n",
    "\n",
    "# drop rows with out of sync entries\n",
    "aggregated_cpu = aggregated_cpu.drop(aggregated_cpu[aggregated_cpu.index % 300 != 0].index)\n",
    "# add in new entries with weight corrected values to replace the deleted entries\n",
    "aggregated_cpu = pd.concat([aggregated_cpu.reset_index(), sub_df])\n",
    "# aggregate\n",
    "aggregated_cpu = aggregated_cpu.groupby('timestamp').agg({\"avg cpu\":'sum','max cpu':'sum'})\n",
    "aggregated_cpu.tail()"
   ]
  },
  {
   "cell_type": "code",
   "execution_count": 15,
   "id": "b24eeaaf",
   "metadata": {},
   "outputs": [
    {
     "data": {
      "image/png": "[encoded data removed]",
      "text/plain": [
       "<Figure size 864x288 with 1 Axes>"
      ]
     },
     "metadata": {
      "needs_background": "light"
     },
     "output_type": "display_data"
    },
    {
     "data": {
      "image/png": "[encoded data removed]",
      "text/plain": [
       "<Figure size 864x288 with 1 Axes>"
      ]
     },
     "metadata": {
      "needs_background": "light"
     },
     "output_type": "display_data"
    }
   ],
   "source": [
    "plt.figure(figsize=(12,4))\n",
    "plt.plot(aggregated_cpu[\"avg cpu\"])\n",
    "plt.title('Average CPU Usage')\n",
    "plt.show()\n",
    "\n",
    "plt.figure(figsize=(12,4))\n",
    "plt.plot(aggregated_cpu[\"max cpu\"])\n",
    "plt.title('Maximum CPU Usage')\n",
    "plt.show()"
   ]
  },
  {
   "cell_type": "markdown",
   "id": "d33c49d3",
   "metadata": {},
   "source": [
    "### Convert Timestamp to Date Time"
   ]
  },
  {
   "cell_type": "code",
   "execution_count": 13,
   "id": "8149624e",
   "metadata": {},
   "outputs": [],
   "source": [
    "no_days_difference =  datetime(2016, 11, 16, 0, 0)  - datetime(1970, 1, 1, 0, 0) # = 17121\n",
    "date_time = []\n",
    "for time in aggregated_cpu.index:\n",
    "    date_t = datetime.fromtimestamp(time) + timedelta(days=no_days_difference.days)\n",
    "    date_time.append(date_t)\n",
    "aggregated_cpu[\"datetime\"] = date_time"
   ]
  },
  {
   "cell_type": "code",
   "execution_count": 14,
   "id": "b7211dbd",
   "metadata": {},
   "outputs": [
    {
     "data": {
      "text/html": [
       "<div>\n",
       "<style scoped>\n",
       "    .dataframe tbody tr th:only-of-type {\n",
       "        vertical-align: middle;\n",
       "    }\n",
       "\n",
       "    .dataframe tbody tr th {\n",
       "        vertical-align: top;\n",
       "    }\n",
       "\n",
       "    .dataframe thead th {\n",
       "        text-align: right;\n",
       "    }\n",
       "</style>\n",
       "<table border=\"1\" class=\"dataframe\">\n",
       "  <thead>\n",
       "    <tr style=\"text-align: right;\">\n",
       "      <th></th>\n",
       "      <th>avg cpu</th>\n",
       "      <th>max cpu</th>\n",
       "    </tr>\n",
       "    <tr>\n",
       "      <th>datetime</th>\n",
       "      <th></th>\n",
       "      <th></th>\n",
       "    </tr>\n",
       "  </thead>\n",
       "  <tbody>\n",
       "    <tr>\n",
       "      <th>2016-11-16 00:00:00</th>\n",
       "      <td>1.229569e+06</td>\n",
       "      <td>2.223302e+06</td>\n",
       "    </tr>\n",
       "    <tr>\n",
       "      <th>2016-11-16 00:05:00</th>\n",
       "      <td>1.211322e+06</td>\n",
       "      <td>2.212393e+06</td>\n",
       "    </tr>\n",
       "    <tr>\n",
       "      <th>2016-11-16 00:10:00</th>\n",
       "      <td>1.206635e+06</td>\n",
       "      <td>2.213057e+06</td>\n",
       "    </tr>\n",
       "    <tr>\n",
       "      <th>2016-11-16 00:15:00</th>\n",
       "      <td>1.190369e+06</td>\n",
       "      <td>2.187572e+06</td>\n",
       "    </tr>\n",
       "    <tr>\n",
       "      <th>2016-11-16 00:20:00</th>\n",
       "      <td>1.180992e+06</td>\n",
       "      <td>2.183684e+06</td>\n",
       "    </tr>\n",
       "  </tbody>\n",
       "</table>\n",
       "</div>"
      ],
      "text/plain": [
       "                          avg cpu       max cpu\n",
       "datetime                                       \n",
       "2016-11-16 00:00:00  1.229569e+06  2.223302e+06\n",
       "2016-11-16 00:05:00  1.211322e+06  2.212393e+06\n",
       "2016-11-16 00:10:00  1.206635e+06  2.213057e+06\n",
       "2016-11-16 00:15:00  1.190369e+06  2.187572e+06\n",
       "2016-11-16 00:20:00  1.180992e+06  2.183684e+06"
      ]
     },
     "execution_count": 14,
     "metadata": {},
     "output_type": "execute_result"
    }
   ],
   "source": [
    "aggregated_cpu = aggregated_cpu.set_index(\"datetime\")\n",
    "aggregated_cpu.head()"
   ]
  },
  {
   "cell_type": "code",
   "execution_count": 16,
   "id": "efb22cee",
   "metadata": {},
   "outputs": [],
   "source": [
    "aggregated_cpu.to_csv(\"D:/FYP/AzureDatasetPacking2019/Aggregated Data/aggregated_cpu_correctdates.csv\")"
   ]
  }
 ],
 "metadata": {
  "kernelspec": {
   "display_name": "Python 3 (ipykernel)",
   "language": "python",
   "name": "python3"
  },
  "language_info": {
   "codemirror_mode": {
    "name": "ipython",
    "version": 3
   },
   "file_extension": ".py",
   "mimetype": "text/x-python",
   "name": "python",
   "nbconvert_exporter": "python",
   "pygments_lexer": "ipython3",
   "version": "3.9.7"
  }
 },
 "nbformat": 4,
 "nbformat_minor": 5
}
